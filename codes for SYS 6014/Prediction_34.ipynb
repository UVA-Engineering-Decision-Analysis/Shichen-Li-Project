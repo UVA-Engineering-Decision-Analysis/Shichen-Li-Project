{
 "cells": [
  {
   "cell_type": "code",
   "execution_count": 1,
   "metadata": {},
   "outputs": [],
   "source": [
    "import numpy as np\n",
    "import pandas as pd"
   ]
  },
  {
   "cell_type": "code",
   "execution_count": 2,
   "metadata": {},
   "outputs": [],
   "source": [
    "filename = 'Data_analysis_34'\n",
    "\n",
    "# Read data from csv file \n",
    "df_feat = pd.read_csv(filename)\n",
    "df_feat = df_feat.drop(columns = ['Activity'])\n",
    "df_keys = df_feat.keys()"
   ]
  },
  {
   "cell_type": "code",
   "execution_count": 3,
   "metadata": {},
   "outputs": [
    {
     "name": "stdout",
     "output_type": "stream",
     "text": [
      "Index(['Unnamed: 0', 'Unnamed: 0.1', 'Participant', 'start_time', 'end_time',\n",
      "       'acc_mean', 'acc_mean.1', 'acc_50%', 'acc_max', 'acc_eng', 'acc_var',\n",
      "       'acc_skew', 'acc_kurt', 'acc_entropy', 'acc_mad', 'gyro_mean',\n",
      "       'gyro_mean.1', 'gyro_50%', 'gyro_max', 'gyro_eng', 'gyro_var',\n",
      "       'gyro_skew', 'gyro_kurt', 'gyro_entropy', 'gyro_mad', 'score_change'],\n",
      "      dtype='object')\n"
     ]
    },
    {
     "data": {
      "text/plain": [
       "26"
      ]
     },
     "execution_count": 3,
     "metadata": {},
     "output_type": "execute_result"
    }
   ],
   "source": [
    "print(df_keys)\n",
    "len(df_keys)"
   ]
  },
  {
   "cell_type": "code",
   "execution_count": 4,
   "metadata": {},
   "outputs": [
    {
     "name": "stdout",
     "output_type": "stream",
     "text": [
      "       acc_mean  acc_mean.1    acc_50%    acc_max        acc_eng   acc_var  \\\n",
      "0      3.258336    3.206282   3.261504   3.318868   24155.548204  0.001071   \n",
      "1      3.288231    3.218016   3.294214   3.338302   24589.066281  0.000670   \n",
      "2      3.307407    3.274049   3.307278   3.344048   24864.479088  0.000117   \n",
      "3      3.310460    3.287662   3.312222   3.344048   24910.254371  0.000054   \n",
      "4      3.311040    3.287662   3.312971   3.344048   24908.023866  0.000050   \n",
      "...         ...         ...        ...        ...            ...       ...   \n",
      "3581  11.702805   11.417292  11.703640  11.895382  262961.324078  0.003379   \n",
      "3582  11.695273   11.417292  11.694066  11.895382  263581.173677  0.003774   \n",
      "3583  11.692662   11.417292  11.694293  11.872994  265650.063209  0.003243   \n",
      "3584  11.703943   11.423132  11.703998  11.872994  266023.905128  0.002225   \n",
      "3585  11.709427   11.502270  11.708944  11.872994  177560.567817  0.001717   \n",
      "\n",
      "      acc_skew  acc_kurt  acc_entropy   acc_mad  gyro_mean  gyro_mean.1  \\\n",
      "0     0.018605 -1.512416     4.223821  0.029857   2.327607     0.052653   \n",
      "1    -0.854976 -0.218278     3.777830  0.021259   3.288363     0.052653   \n",
      "2    -0.475724  0.003555     3.016333  0.008666   3.509002     0.085474   \n",
      "3     0.286704  0.304987     2.521237  0.006059   2.442205     0.085474   \n",
      "4     0.149548  0.270415     2.537473  0.005771   1.469010     0.085474   \n",
      "...        ...       ...          ...       ...        ...          ...   \n",
      "3581 -0.401824  2.015420     6.932632  0.044005   1.971729     0.167190   \n",
      "3582 -0.446769  2.197361     7.020525  0.045999   2.057493     0.163304   \n",
      "3583 -0.793387  3.032858     6.853013  0.042203   1.851779     0.123713   \n",
      "3584 -0.868880  4.941411     6.793784  0.032810   1.668256     0.123713   \n",
      "3585 -0.375874  3.705084     6.532706  0.029496   1.609777     0.123713   \n",
      "\n",
      "      gyro_50%   gyro_max      gyro_eng  gyro_var  gyro_skew  gyro_kurt  \\\n",
      "0     1.295175  11.430465  25807.319117  5.928730   1.714790   2.646657   \n",
      "1     2.745057  11.430465  39914.314749  6.742101   0.900778   0.242773   \n",
      "2     2.848350  11.430465  41435.186896  5.918802   1.006956   0.597147   \n",
      "3     1.879887   8.816985  22219.042719  3.812516   1.112584   0.585165   \n",
      "4     1.016309   7.359617   8220.960242  1.461033   1.485985   2.253974   \n",
      "...        ...        ...           ...       ...        ...        ...   \n",
      "3581  1.762409   5.488829   9116.831689  0.861082   0.795411   0.229283   \n",
      "3582  1.957578   5.488829   9871.091583  0.889702   0.602416   0.097293   \n",
      "3583  1.751808   5.570260   8338.294151  0.862812   1.014820   1.410757   \n",
      "3584  1.529116   5.570260   6835.576335  0.737167   1.142133   1.965215   \n",
      "3585  1.477243   5.570260   4289.502731  0.721533   1.376230   2.969875   \n",
      "\n",
      "      gyro_entropy  gyro_mad  \n",
      "0         7.729735  1.851316  \n",
      "1         7.729296  2.122577  \n",
      "2         7.728246  1.954245  \n",
      "3         7.728246  1.563333  \n",
      "4         7.727806  0.944890  \n",
      "...            ...       ...  \n",
      "3581      7.560080  0.752801  \n",
      "3582      7.563720  0.757811  \n",
      "3583      7.571988  0.706481  \n",
      "3584      7.571474  0.654387  \n",
      "3585      7.166266  0.621749  \n",
      "\n",
      "[3586 rows x 20 columns]\n",
      "0      -0.975\n",
      "1      -0.975\n",
      "2      -0.975\n",
      "3      -0.975\n",
      "4      -0.975\n",
      "        ...  \n",
      "3581   -0.587\n",
      "3582   -0.587\n",
      "3583   -0.587\n",
      "3584   -0.587\n",
      "3585   -0.587\n",
      "Name: score_change, Length: 3586, dtype: float64\n"
     ]
    }
   ],
   "source": [
    "df = df_feat.copy()\n",
    "df = df.dropna()\n",
    "\n",
    "Xs = df[df_keys[5:25]]\n",
    "y = df['score_change']\n",
    "\n",
    "print(Xs)\n",
    "print(y)"
   ]
  },
  {
   "cell_type": "code",
   "execution_count": 18,
   "metadata": {},
   "outputs": [
    {
     "name": "stdout",
     "output_type": "stream",
     "text": [
      "When there is 1 components:\n",
      "[0.37038952]\n",
      "0.370389521049393\n",
      "When there is 2 components:\n",
      "[0.37038952 0.27273778]\n",
      "0.6431272974153383\n",
      "When there is 3 components:\n",
      "[0.37038952 0.27273778 0.0944121 ]\n",
      "0.737539396064615\n",
      "When there is 4 components:\n",
      "[0.37038952 0.27273778 0.0944121  0.05679204]\n",
      "0.7943314372676582\n",
      "When there is 5 components:\n",
      "[0.37038952 0.27273778 0.0944121  0.05679204 0.0553071 ]\n",
      "0.8496385382320383\n",
      "When there is 6 components:\n",
      "[0.37038952 0.27273778 0.0944121  0.05679204 0.0553071  0.04636585]\n",
      "0.8960043878037041\n",
      "When there is 7 components:\n",
      "[0.37038952 0.27273778 0.0944121  0.05679204 0.0553071  0.04636585\n",
      " 0.03879488]\n",
      "0.934799267576657\n",
      "When there is 8 components:\n",
      "[0.37038952 0.27273778 0.0944121  0.05679204 0.0553071  0.04636585\n",
      " 0.03879488 0.03009639]\n",
      "0.9648956570629967\n",
      "When there is 9 components:\n",
      "[0.37038952 0.27273778 0.0944121  0.05679204 0.0553071  0.04636585\n",
      " 0.03879488 0.03009639 0.0128992 ]\n",
      "0.9777948586706362\n",
      "When there is 10 components:\n",
      "[0.37038952 0.27273778 0.0944121  0.05679204 0.0553071  0.04636585\n",
      " 0.03879488 0.03009639 0.0128992  0.0080412 ]\n",
      "0.9858360540382592\n"
     ]
    }
   ],
   "source": [
    "from sklearn.model_selection import train_test_split\n",
    "from sklearn.preprocessing import StandardScaler\n",
    "from sklearn.decomposition import PCA\n",
    "\n",
    "components = []\n",
    "accuracy = []\n",
    "for i in range(1,11):\n",
    "    X_train, X_test, y_train, y_test = train_test_split(Xs, y, test_size=0.2, random_state=0)\n",
    "    sc = StandardScaler()\n",
    "    X_train = sc.fit_transform(X_train)\n",
    "    X_test = sc.transform(X_test)\n",
    "    pca = PCA(n_components = i)\n",
    "    X_train = pca.fit_transform(X_train)\n",
    "    X_test = pca.transform(X_test)\n",
    "    explained_variance = pca.explained_variance_ratio_\n",
    "    print('When there is ' + str(i) + ' components:')\n",
    "    print(explained_variance)\n",
    "    print(sum(explained_variance))\n",
    "    components.append(i)\n",
    "    accuracy.append(sum(explained_variance))"
   ]
  },
  {
   "cell_type": "code",
   "execution_count": 6,
   "metadata": {},
   "outputs": [],
   "source": [
    "# We finally found that only use 16 features (a half of the all features) can retain 99% accuracy.\n",
    "from sklearn.model_selection import train_test_split    \n",
    "X_train, X_test, y_train, y_test = train_test_split(Xs, y, test_size=0.2, random_state=0)\n",
    "sc = StandardScaler()\n",
    "X_train = sc.fit_transform(X_train)\n",
    "X_test = sc.transform(X_test)\n",
    "pca = PCA(n_components = 11)\n",
    "X_train_1 = pca.fit_transform(X_train)\n",
    "X_test_1 = pca.transform(X_test)"
   ]
  },
  {
   "cell_type": "code",
   "execution_count": 7,
   "metadata": {},
   "outputs": [
    {
     "name": "stdout",
     "output_type": "stream",
     "text": [
      "0.23759898558029025\n",
      "Mean Absolute Error: 0.3943365496106931\n",
      "Mean Squared Error: 0.2256788588969976\n",
      "Root Mean Squared Error: 0.4750566901928628\n"
     ]
    }
   ],
   "source": [
    "from sklearn.linear_model import LinearRegression\n",
    "from sklearn import metrics\n",
    "\n",
    "reg = LinearRegression().fit(X_train_1, y_train)\n",
    "\n",
    "y_pred = reg.predict(X_test_1)\n",
    "\n",
    "print(metrics.r2_score(y_test,y_pred))\n",
    "print('Mean Absolute Error:', metrics.mean_absolute_error(y_test, y_pred))  \n",
    "print('Mean Squared Error:', metrics.mean_squared_error(y_test, y_pred))  \n",
    "print('Root Mean Squared Error:', np.sqrt(metrics.mean_squared_error(y_test, y_pred)))"
   ]
  },
  {
   "cell_type": "code",
   "execution_count": 8,
   "metadata": {},
   "outputs": [
    {
     "name": "stdout",
     "output_type": "stream",
     "text": [
      "-0.043254532775453304\n",
      "[ 0.05557781 -0.08665118  0.01920821 -0.01034166 -0.04809062  0.07167902\n",
      "  0.00405309 -0.00199611  0.02550331  0.02678003  0.05969245]\n"
     ]
    }
   ],
   "source": [
    "#To retrieve the intercept:\n",
    "print(reg.intercept_)\n",
    "#For retrieving the slope:\n",
    "print(reg.coef_)"
   ]
  },
  {
   "cell_type": "code",
   "execution_count": 9,
   "metadata": {},
   "outputs": [
    {
     "data": {
      "text/html": [
       "<div>\n",
       "<style scoped>\n",
       "    .dataframe tbody tr th:only-of-type {\n",
       "        vertical-align: middle;\n",
       "    }\n",
       "\n",
       "    .dataframe tbody tr th {\n",
       "        vertical-align: top;\n",
       "    }\n",
       "\n",
       "    .dataframe thead th {\n",
       "        text-align: right;\n",
       "    }\n",
       "</style>\n",
       "<table border=\"1\" class=\"dataframe\">\n",
       "  <thead>\n",
       "    <tr style=\"text-align: right;\">\n",
       "      <th></th>\n",
       "      <th>Actual</th>\n",
       "      <th>Predicted</th>\n",
       "    </tr>\n",
       "  </thead>\n",
       "  <tbody>\n",
       "    <tr>\n",
       "      <td>0</td>\n",
       "      <td>-0.692</td>\n",
       "      <td>-0.338547</td>\n",
       "    </tr>\n",
       "    <tr>\n",
       "      <td>1</td>\n",
       "      <td>0.230</td>\n",
       "      <td>0.322572</td>\n",
       "    </tr>\n",
       "    <tr>\n",
       "      <td>2</td>\n",
       "      <td>0.230</td>\n",
       "      <td>0.361451</td>\n",
       "    </tr>\n",
       "    <tr>\n",
       "      <td>3</td>\n",
       "      <td>0.308</td>\n",
       "      <td>0.127773</td>\n",
       "    </tr>\n",
       "    <tr>\n",
       "      <td>4</td>\n",
       "      <td>0.066</td>\n",
       "      <td>0.015640</td>\n",
       "    </tr>\n",
       "    <tr>\n",
       "      <td>...</td>\n",
       "      <td>...</td>\n",
       "      <td>...</td>\n",
       "    </tr>\n",
       "    <tr>\n",
       "      <td>713</td>\n",
       "      <td>-0.587</td>\n",
       "      <td>0.206451</td>\n",
       "    </tr>\n",
       "    <tr>\n",
       "      <td>714</td>\n",
       "      <td>0.230</td>\n",
       "      <td>0.272285</td>\n",
       "    </tr>\n",
       "    <tr>\n",
       "      <td>715</td>\n",
       "      <td>-0.737</td>\n",
       "      <td>-0.250878</td>\n",
       "    </tr>\n",
       "    <tr>\n",
       "      <td>716</td>\n",
       "      <td>0.205</td>\n",
       "      <td>-0.155552</td>\n",
       "    </tr>\n",
       "    <tr>\n",
       "      <td>717</td>\n",
       "      <td>-0.692</td>\n",
       "      <td>-0.352109</td>\n",
       "    </tr>\n",
       "  </tbody>\n",
       "</table>\n",
       "<p>718 rows × 2 columns</p>\n",
       "</div>"
      ],
      "text/plain": [
       "     Actual  Predicted\n",
       "0    -0.692  -0.338547\n",
       "1     0.230   0.322572\n",
       "2     0.230   0.361451\n",
       "3     0.308   0.127773\n",
       "4     0.066   0.015640\n",
       "..      ...        ...\n",
       "713  -0.587   0.206451\n",
       "714   0.230   0.272285\n",
       "715  -0.737  -0.250878\n",
       "716   0.205  -0.155552\n",
       "717  -0.692  -0.352109\n",
       "\n",
       "[718 rows x 2 columns]"
      ]
     },
     "execution_count": 9,
     "metadata": {},
     "output_type": "execute_result"
    }
   ],
   "source": [
    "import numpy as np\n",
    "y_test = np.array(list(y_test))\n",
    "y_pred = np.array(y_pred)\n",
    "\n",
    "result = pd.DataFrame({'Actual': y_test.flatten(), 'Predicted': y_pred.flatten()})\n",
    "result"
   ]
  },
  {
   "cell_type": "code",
   "execution_count": 10,
   "metadata": {},
   "outputs": [
    {
     "name": "stdout",
     "output_type": "stream",
     "text": [
      "{'alpha': 0.0001}\n",
      "-0.23868772184697606\n"
     ]
    }
   ],
   "source": [
    "# Test the best alpha\n",
    "from sklearn.model_selection import GridSearchCV\n",
    "from sklearn.linear_model import Lasso\n",
    "\n",
    "lasso = Lasso()\n",
    "\n",
    "parameters = {'alpha' : [1e-10,1e-8,1e-4, 1e-2,0.1,0.5, 1, 5, 10]}\n",
    "\n",
    "lasso_regressor = GridSearchCV(lasso, parameters, scoring = 'neg_mean_squared_error', cv = 5)\n",
    "\n",
    "lasso_regressor.fit(X_train_1, y_train)\n",
    "\n",
    "print(lasso_regressor.best_params_)\n",
    "print(lasso_regressor.best_score_)"
   ]
  },
  {
   "cell_type": "code",
   "execution_count": 11,
   "metadata": {},
   "outputs": [
    {
     "name": "stdout",
     "output_type": "stream",
     "text": [
      "0.23754934994394594\n",
      "Mean Absolute Error: 0.394341472969816\n",
      "Mean Squared Error: 0.2256935515765179\n",
      "Root Mean Squared Error: 0.47507215407400794\n"
     ]
    }
   ],
   "source": [
    "\n",
    "\n",
    "lasso = Lasso(alpha = 1e-4)\n",
    "lasso.fit(X_train_1,y_train)\n",
    "\n",
    "y_pred = lasso.predict(X_test_1)\n",
    "\n",
    "print(metrics.r2_score(y_test,y_pred))\n",
    "print('Mean Absolute Error:', metrics.mean_absolute_error(y_test, y_pred))  \n",
    "print('Mean Squared Error:', metrics.mean_squared_error(y_test, y_pred))  \n",
    "print('Root Mean Squared Error:', np.sqrt(metrics.mean_squared_error(y_test, y_pred)))"
   ]
  },
  {
   "cell_type": "code",
   "execution_count": 12,
   "metadata": {},
   "outputs": [
    {
     "name": "stdout",
     "output_type": "stream",
     "text": [
      "0.23757282542018\n",
      "Mean Absolute Error: 0.39433922248247993\n",
      "Mean Squared Error: 0.22568660258433615\n",
      "Root Mean Squared Error: 0.47506484040006175\n"
     ]
    }
   ],
   "source": [
    "from sklearn.linear_model import ElasticNet\n",
    "\n",
    "model_enet = ElasticNet(alpha = 0.0001) # After test, this is the best alpha\n",
    "\n",
    "model_enet.fit(X_train_1,y_train)\n",
    "\n",
    "y_pred = model_enet.predict(X_test_1)\n",
    "\n",
    "print(metrics.r2_score(y_test,y_pred))\n",
    "print('Mean Absolute Error:', metrics.mean_absolute_error(y_test, y_pred))  \n",
    "print('Mean Squared Error:', metrics.mean_squared_error(y_test, y_pred))  \n",
    "print('Root Mean Squared Error:', np.sqrt(metrics.mean_squared_error(y_test, y_pred)))"
   ]
  },
  {
   "cell_type": "code",
   "execution_count": 19,
   "metadata": {},
   "outputs": [
    {
     "data": {
      "text/plain": [
       "Text(0.5, 0, 'number of components')"
      ]
     },
     "execution_count": 19,
     "metadata": {},
     "output_type": "execute_result"
    },
    {
     "data": {
      "image/png": "[encoded data removed]",
      "text/plain": [
       "<Figure size 432x288 with 1 Axes>"
      ]
     },
     "metadata": {
      "needs_background": "light"
     },
     "output_type": "display_data"
    }
   ],
   "source": [
    "import matplotlib.pyplot as plt\n",
    "plt.plot(components,accuracy)\n",
    "plt.ylabel('accuracy')\n",
    "plt.xlabel('number of components')"
   ]
  },
  {
   "cell_type": "code",
   "execution_count": 16,
   "metadata": {},
   "outputs": [
    {
     "name": "stdout",
     "output_type": "stream",
     "text": [
      "[1, 2, 3, 4, 5, 6, 7, 8, 9, 10, 11, 12, 13]\n",
      "[0.37038952104939354, 0.6431272974153397, 0.7375393960646152, 0.7943314372676595, 0.8496385382320376, 0.8960043878037034, 0.9347992675766584, 0.9648956570629958, 0.9777948586706362, 0.9858360540382595, 0.9910202695588612, 0.99436099550211, 0.9966363889849803]\n"
     ]
    }
   ],
   "source": [
    "print(components)\n",
    "print(accuracy)"
   ]
  },
  {
   "cell_type": "code",
   "execution_count": null,
   "metadata": {},
   "outputs": [],
   "source": []
  }
 ],
 "metadata": {
  "kernelspec": {
   "display_name": "Python 3",
   "language": "python",
   "name": "python3"
  },
  "language_info": {
   "codemirror_mode": {
    "name": "ipython",
    "version": 3
   },
   "file_extension": ".py",
   "mimetype": "text/x-python",
   "name": "python",
   "nbconvert_exporter": "python",
   "pygments_lexer": "ipython3",
   "version": "3.7.4"
  }
 },
 "nbformat": 4,
 "nbformat_minor": 2
}
