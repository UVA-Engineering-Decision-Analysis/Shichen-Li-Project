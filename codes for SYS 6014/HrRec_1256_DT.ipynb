{
 "cells": [
  {
   "cell_type": "code",
   "execution_count": 1,
   "metadata": {},
   "outputs": [],
   "source": [
    "# CS 6316 ML Project: LASSO\n",
    "# Created on Wed Apr 29 22:23 2020 \n",
    "# @author: sl4bq\n",
    "\n",
    "import time\n",
    "import os\n",
    "import shutil\n",
    "import pandas as pd\n",
    "from datetime import datetime\n",
    "from dateutil import tz\n",
    "import warnings\n",
    "import itertools\n",
    "\n",
    "import math\n",
    "import matplotlib.pyplot as plt\n",
    "import numpy as np\n",
    "from sklearn import datasets, linear_model\n",
    "from sklearn.metrics import mean_squared_error, r2_score\n",
    "from sklearn.model_selection import train_test_split\n",
    "\n"
   ]
  },
  {
   "cell_type": "code",
   "execution_count": 2,
   "metadata": {},
   "outputs": [
    {
     "name": "stdout",
     "output_type": "stream",
     "text": [
      "Importing Data Now\n"
     ]
    }
   ],
   "source": [
    "# Remove the NaN rows and columns\n",
    "\n",
    "def removeNaN(curr_feat_1, curr_feat_2):\n",
    "    curr_feat_1_nan = np.array([])  # numpy.float64\n",
    "    curr_feat_2_nan = np.array([])  # numpy.float64\n",
    "    posi = 0\n",
    "    # *** Check for and remove the Nan rows in from ONLY [curr_feat_2] feature rows\n",
    "    for posi in range(len(curr_feat_2)):\n",
    "        if not (math.isnan(curr_feat_2[posi])):# and not(math.isnan(curr_feat_1[posi]))):\n",
    "            curr_feat_1_nan = np.append(curr_feat_1_nan, curr_feat_1[posi])\n",
    "            curr_feat_2_nan = np.append(curr_feat_2_nan, curr_feat_2[posi])\n",
    "            if (posi < 10):\n",
    "                print(curr_feat_2_nan[posi])\n",
    "        if (math.isnan(curr_feat_1[posi])):\n",
    "            # curr_feat_1_nan = np.append(curr_feat_1_nan, curr_feat_1[posi])\n",
    "            # curr_feat_2_nan = np.append(curr_feat_2_nan, curr_feat_2[posi])\n",
    "            if (posi < 10):\n",
    "                print(curr_feat_2_nan[posi])\n",
    "    return curr_feat_1_nan, curr_feat_2_nan\n",
    "\n",
    "#### Import .csv dataset into pandas\n",
    "print('Importing Data Now')\n",
    "\n",
    "#filename = '/Users/Mandala/PycharmProjects/ML_Project/windowing_results.csv'\n",
    "filename = 'heart_rate_new.csv'\n",
    "\n",
    "# Read data from csv file \n",
    "df_feat = pd.read_csv(filename)\n",
    "df_keys = df_feat.keys()\n",
    "\n"
   ]
  },
  {
   "cell_type": "code",
   "execution_count": 3,
   "metadata": {},
   "outputs": [
    {
     "data": {
      "text/html": [
       "<div>\n",
       "<style scoped>\n",
       "    .dataframe tbody tr th:only-of-type {\n",
       "        vertical-align: middle;\n",
       "    }\n",
       "\n",
       "    .dataframe tbody tr th {\n",
       "        vertical-align: top;\n",
       "    }\n",
       "\n",
       "    .dataframe thead th {\n",
       "        text-align: right;\n",
       "    }\n",
       "</style>\n",
       "<table border=\"1\" class=\"dataframe\">\n",
       "  <thead>\n",
       "    <tr style=\"text-align: right;\">\n",
       "      <th></th>\n",
       "      <th>Unnamed: 0</th>\n",
       "      <th>GSR #</th>\n",
       "      <th>start_time</th>\n",
       "      <th>end_time</th>\n",
       "      <th>hr_mean</th>\n",
       "      <th>hr_std</th>\n",
       "      <th>hr_50%</th>\n",
       "      <th>Activity</th>\n",
       "    </tr>\n",
       "  </thead>\n",
       "  <tbody>\n",
       "    <tr>\n",
       "      <td>0</td>\n",
       "      <td>Heart_rate</td>\n",
       "      <td>1</td>\n",
       "      <td>2019-11-21 09:35:27</td>\n",
       "      <td>2019-11-21 09:35:31</td>\n",
       "      <td>-1.0</td>\n",
       "      <td>0.0</td>\n",
       "      <td>-1.0</td>\n",
       "      <td>(0,0)</td>\n",
       "    </tr>\n",
       "    <tr>\n",
       "      <td>1</td>\n",
       "      <td>Heart_rate</td>\n",
       "      <td>1</td>\n",
       "      <td>2019-11-21 09:35:29</td>\n",
       "      <td>2019-11-21 09:35:33</td>\n",
       "      <td>-1.0</td>\n",
       "      <td>0.0</td>\n",
       "      <td>-1.0</td>\n",
       "      <td>(0,0)</td>\n",
       "    </tr>\n",
       "    <tr>\n",
       "      <td>2</td>\n",
       "      <td>Heart_rate</td>\n",
       "      <td>1</td>\n",
       "      <td>2019-11-21 09:35:31</td>\n",
       "      <td>2019-11-21 09:35:35</td>\n",
       "      <td>-1.0</td>\n",
       "      <td>0.0</td>\n",
       "      <td>-1.0</td>\n",
       "      <td>(0,0)</td>\n",
       "    </tr>\n",
       "    <tr>\n",
       "      <td>3</td>\n",
       "      <td>Heart_rate</td>\n",
       "      <td>1</td>\n",
       "      <td>2019-11-21 09:35:33</td>\n",
       "      <td>2019-11-21 09:35:37</td>\n",
       "      <td>-1.0</td>\n",
       "      <td>0.0</td>\n",
       "      <td>-1.0</td>\n",
       "      <td>(0,0)</td>\n",
       "    </tr>\n",
       "    <tr>\n",
       "      <td>4</td>\n",
       "      <td>Heart_rate</td>\n",
       "      <td>1</td>\n",
       "      <td>2019-11-21 09:35:35</td>\n",
       "      <td>2019-11-21 09:35:39</td>\n",
       "      <td>-1.0</td>\n",
       "      <td>0.0</td>\n",
       "      <td>-1.0</td>\n",
       "      <td>(0,0)</td>\n",
       "    </tr>\n",
       "    <tr>\n",
       "      <td>...</td>\n",
       "      <td>...</td>\n",
       "      <td>...</td>\n",
       "      <td>...</td>\n",
       "      <td>...</td>\n",
       "      <td>...</td>\n",
       "      <td>...</td>\n",
       "      <td>...</td>\n",
       "      <td>...</td>\n",
       "    </tr>\n",
       "    <tr>\n",
       "      <td>5100</td>\n",
       "      <td>Heart_rate</td>\n",
       "      <td>6</td>\n",
       "      <td>2019-11-21 11:00:28</td>\n",
       "      <td>2019-11-21 11:00:32</td>\n",
       "      <td>-1.0</td>\n",
       "      <td>0.0</td>\n",
       "      <td>-1.0</td>\n",
       "      <td>(2,3)</td>\n",
       "    </tr>\n",
       "    <tr>\n",
       "      <td>5101</td>\n",
       "      <td>Heart_rate</td>\n",
       "      <td>6</td>\n",
       "      <td>2019-11-21 11:00:30</td>\n",
       "      <td>2019-11-21 11:00:34</td>\n",
       "      <td>-1.0</td>\n",
       "      <td>0.0</td>\n",
       "      <td>-1.0</td>\n",
       "      <td>(2,3)</td>\n",
       "    </tr>\n",
       "    <tr>\n",
       "      <td>5102</td>\n",
       "      <td>Heart_rate</td>\n",
       "      <td>6</td>\n",
       "      <td>2019-11-21 11:00:32</td>\n",
       "      <td>2019-11-21 11:00:36</td>\n",
       "      <td>-1.0</td>\n",
       "      <td>0.0</td>\n",
       "      <td>-1.0</td>\n",
       "      <td>(2,3)</td>\n",
       "    </tr>\n",
       "    <tr>\n",
       "      <td>5103</td>\n",
       "      <td>Heart_rate</td>\n",
       "      <td>6</td>\n",
       "      <td>2019-11-21 11:00:34</td>\n",
       "      <td>2019-11-21 11:00:38</td>\n",
       "      <td>-1.0</td>\n",
       "      <td>0.0</td>\n",
       "      <td>-1.0</td>\n",
       "      <td>(2,3)</td>\n",
       "    </tr>\n",
       "    <tr>\n",
       "      <td>5104</td>\n",
       "      <td>Heart_rate</td>\n",
       "      <td>6</td>\n",
       "      <td>2019-11-21 11:00:36</td>\n",
       "      <td>2019-11-21 11:00:40</td>\n",
       "      <td>-1.0</td>\n",
       "      <td>0.0</td>\n",
       "      <td>-1.0</td>\n",
       "      <td>(2,3)</td>\n",
       "    </tr>\n",
       "  </tbody>\n",
       "</table>\n",
       "<p>5105 rows × 8 columns</p>\n",
       "</div>"
      ],
      "text/plain": [
       "      Unnamed: 0  GSR #           start_time             end_time  hr_mean  \\\n",
       "0     Heart_rate      1  2019-11-21 09:35:27  2019-11-21 09:35:31     -1.0   \n",
       "1     Heart_rate      1  2019-11-21 09:35:29  2019-11-21 09:35:33     -1.0   \n",
       "2     Heart_rate      1  2019-11-21 09:35:31  2019-11-21 09:35:35     -1.0   \n",
       "3     Heart_rate      1  2019-11-21 09:35:33  2019-11-21 09:35:37     -1.0   \n",
       "4     Heart_rate      1  2019-11-21 09:35:35  2019-11-21 09:35:39     -1.0   \n",
       "...          ...    ...                  ...                  ...      ...   \n",
       "5100  Heart_rate      6  2019-11-21 11:00:28  2019-11-21 11:00:32     -1.0   \n",
       "5101  Heart_rate      6  2019-11-21 11:00:30  2019-11-21 11:00:34     -1.0   \n",
       "5102  Heart_rate      6  2019-11-21 11:00:32  2019-11-21 11:00:36     -1.0   \n",
       "5103  Heart_rate      6  2019-11-21 11:00:34  2019-11-21 11:00:38     -1.0   \n",
       "5104  Heart_rate      6  2019-11-21 11:00:36  2019-11-21 11:00:40     -1.0   \n",
       "\n",
       "      hr_std  hr_50% Activity  \n",
       "0        0.0    -1.0    (0,0)  \n",
       "1        0.0    -1.0    (0,0)  \n",
       "2        0.0    -1.0    (0,0)  \n",
       "3        0.0    -1.0    (0,0)  \n",
       "4        0.0    -1.0    (0,0)  \n",
       "...      ...     ...      ...  \n",
       "5100     0.0    -1.0    (2,3)  \n",
       "5101     0.0    -1.0    (2,3)  \n",
       "5102     0.0    -1.0    (2,3)  \n",
       "5103     0.0    -1.0    (2,3)  \n",
       "5104     0.0    -1.0    (2,3)  \n",
       "\n",
       "[5105 rows x 8 columns]"
      ]
     },
     "execution_count": 3,
     "metadata": {},
     "output_type": "execute_result"
    }
   ],
   "source": [
    "df_feat"
   ]
  },
  {
   "cell_type": "code",
   "execution_count": 4,
   "metadata": {},
   "outputs": [
    {
     "name": "stdout",
     "output_type": "stream",
     "text": [
      "Index(['Unnamed: 0', 'GSR #', 'start_time', 'end_time', 'hr_mean', 'hr_std',\n",
      "       'hr_50%', 'Activity'],\n",
      "      dtype='object')\n"
     ]
    },
    {
     "data": {
      "text/plain": [
       "8"
      ]
     },
     "execution_count": 4,
     "metadata": {},
     "output_type": "execute_result"
    }
   ],
   "source": [
    "print(df_keys)\n",
    "len(df_keys)"
   ]
  },
  {
   "cell_type": "code",
   "execution_count": 5,
   "metadata": {},
   "outputs": [
    {
     "name": "stdout",
     "output_type": "stream",
     "text": [
      "      hr_mean  hr_std  hr_50%\n",
      "0        -1.0     0.0    -1.0\n",
      "1        -1.0     0.0    -1.0\n",
      "2        -1.0     0.0    -1.0\n",
      "3        -1.0     0.0    -1.0\n",
      "4        -1.0     0.0    -1.0\n",
      "...       ...     ...     ...\n",
      "5100     -1.0     0.0    -1.0\n",
      "5101     -1.0     0.0    -1.0\n",
      "5102     -1.0     0.0    -1.0\n",
      "5103     -1.0     0.0    -1.0\n",
      "5104     -1.0     0.0    -1.0\n",
      "\n",
      "[5105 rows x 3 columns]\n",
      "0       (0,0)\n",
      "1       (0,0)\n",
      "2       (0,0)\n",
      "3       (0,0)\n",
      "4       (0,0)\n",
      "        ...  \n",
      "5100    (2,3)\n",
      "5101    (2,3)\n",
      "5102    (2,3)\n",
      "5103    (2,3)\n",
      "5104    (2,3)\n",
      "Name: Activity, Length: 5105, dtype: object\n"
     ]
    }
   ],
   "source": [
    "# Data Preprocessing\n",
    "df = df_feat.copy()\n",
    "df = df.dropna()\n",
    "\n",
    "Xs = df[df_keys[4:7]]\n",
    "y = df['Activity']\n",
    "\n",
    "print(Xs)\n",
    "print(y)"
   ]
  },
  {
   "cell_type": "code",
   "execution_count": 6,
   "metadata": {},
   "outputs": [],
   "source": [
    "# This is the data split\n",
    "\n",
    "X_train, X_test, y_train, y_test = train_test_split(Xs, y, test_size=0.2, random_state=1)\n"
   ]
  },
  {
   "cell_type": "code",
   "execution_count": 7,
   "metadata": {},
   "outputs": [
    {
     "data": {
      "text/plain": [
       "DecisionTreeClassifier(class_weight=None, criterion='gini', max_depth=None,\n",
       "                       max_features=None, max_leaf_nodes=None,\n",
       "                       min_impurity_decrease=0.0, min_impurity_split=None,\n",
       "                       min_samples_leaf=1, min_samples_split=2,\n",
       "                       min_weight_fraction_leaf=0.0, presort=False,\n",
       "                       random_state=None, splitter='best')"
      ]
     },
     "execution_count": 7,
     "metadata": {},
     "output_type": "execute_result"
    }
   ],
   "source": [
    "\n",
    "# ---- Decision Tree -----------\n",
    "from sklearn import tree\n",
    "\n",
    "dt = tree.DecisionTreeClassifier()\n",
    "dt.fit(X_train, y_train)"
   ]
  },
  {
   "cell_type": "code",
   "execution_count": 8,
   "metadata": {},
   "outputs": [],
   "source": [
    "y_pred = dt.predict(X_test)"
   ]
  },
  {
   "cell_type": "code",
   "execution_count": 9,
   "metadata": {},
   "outputs": [
    {
     "name": "stdout",
     "output_type": "stream",
     "text": [
      "[[ 3  3  0  0  0  0 21  0  0  2  0  0]\n",
      " [ 0 59  2  4  0  3 48  3  0  0  9  1]\n",
      " [ 0 19 18  8  2  3 57  6  2  2  8  5]\n",
      " [ 1 17  4 10  0  0 46  4  1  4  2  4]\n",
      " [ 0  0  2  0  4  0  5  1  0  0  3  1]\n",
      " [ 0  2  6  3  0 21 30  3  0  2 11  3]\n",
      " [ 0  1  7  4  1 11 89  2  1  7 12  3]\n",
      " [ 0  2  2  1  1  6 45 14  1  1  4  5]\n",
      " [ 0  0  1  1  0  1  6  1  2  0  2  1]\n",
      " [ 1  3  5  0  0  2 36  1  3 19  4  1]\n",
      " [ 2  4  7  7  1  9 67  8  4  8 28  7]\n",
      " [ 0  3  3  0  0 11 47  1  1  1  3 11]]\n",
      "0.2722820763956905\n"
     ]
    }
   ],
   "source": [
    "from sklearn.metrics import confusion_matrix, accuracy_score\n",
    "\n",
    "print(confusion_matrix(y_test, y_pred))\n",
    "print(accuracy_score(y_test, y_pred))"
   ]
  },
  {
   "cell_type": "code",
   "execution_count": 11,
   "metadata": {},
   "outputs": [],
   "source": [
    "df_video = df.loc[(df.Activity == \"(0,0)\") | (df.Activity == \"(0,1)\") | (df.Activity == \"(0,2)\") | (df.Activity == \"(0,3)\")]\n",
    "df_noeval = df.loc[(df.Activity == \"(1,0)\") | (df.Activity == \"(1,1)\") | (df.Activity == \"(1,2)\") | (df.Activity == \"(1,3)\")]\n",
    "df_eval = df.loc[(df.Activity == \"(2,0)\") | (df.Activity == \"(2,1)\") | (df.Activity == \"(2,2)\") | (df.Activity == \"(2,3)\")]"
   ]
  },
  {
   "cell_type": "code",
   "execution_count": 12,
   "metadata": {},
   "outputs": [],
   "source": [
    "def DT(x):\n",
    "    z = x.copy()\n",
    "    df = z.dropna()\n",
    "\n",
    "    Xs = df[df_keys[4:7]]\n",
    "    y = df['Activity']\n",
    "    \n",
    "    X_train, X_test, y_train, y_test = train_test_split(Xs, y, test_size=0.2, random_state=10)\n",
    "    \n",
    "    dt = tree.DecisionTreeClassifier()\n",
    "    dt.fit(X_train, y_train)\n",
    "\n",
    "    y_pred = dt.predict(X_test)\n",
    "\n",
    "    print(confusion_matrix(y_test, y_pred))\n",
    "    print(accuracy_score(y_test, y_pred))"
   ]
  },
  {
   "cell_type": "code",
   "execution_count": 13,
   "metadata": {},
   "outputs": [
    {
     "name": "stdout",
     "output_type": "stream",
     "text": [
      "[[ 2  6  0 16]\n",
      " [ 0 55  7 41]\n",
      " [ 0 28 35 46]\n",
      " [ 1 25 15 61]]\n",
      "0.4526627218934911\n"
     ]
    }
   ],
   "source": [
    "DT(df_video)"
   ]
  },
  {
   "cell_type": "code",
   "execution_count": 14,
   "metadata": {},
   "outputs": [
    {
     "name": "stdout",
     "output_type": "stream",
     "text": [
      "[[  4   1  13   2]\n",
      " [  5  31  53  11]\n",
      " [ 11  18 110   7]\n",
      " [  1  12  60  26]]\n",
      "0.4684931506849315\n"
     ]
    }
   ],
   "source": [
    "DT(df_noeval)"
   ]
  },
  {
   "cell_type": "code",
   "execution_count": 15,
   "metadata": {},
   "outputs": [
    {
     "name": "stdout",
     "output_type": "stream",
     "text": [
      "[[  3   6   8   2]\n",
      " [  2  10  49   7]\n",
      " [  1  19 111   5]\n",
      " [  3   8  71  14]]\n",
      "0.43260188087774293\n"
     ]
    }
   ],
   "source": [
    "DT(df_eval)"
   ]
  },
  {
   "cell_type": "code",
   "execution_count": null,
   "metadata": {},
   "outputs": [],
   "source": []
  }
 ],
 "metadata": {
  "kernelspec": {
   "display_name": "Python 3",
   "language": "python",
   "name": "python3"
  },
  "language_info": {
   "codemirror_mode": {
    "name": "ipython",
    "version": 3
   },
   "file_extension": ".py",
   "mimetype": "text/x-python",
   "name": "python",
   "nbconvert_exporter": "python",
   "pygments_lexer": "ipython3",
   "version": "3.7.4"
  }
 },
 "nbformat": 4,
 "nbformat_minor": 2
}
