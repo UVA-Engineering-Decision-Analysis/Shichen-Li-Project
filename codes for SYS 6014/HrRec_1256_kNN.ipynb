{
 "cells": [
  {
   "cell_type": "code",
   "execution_count": 1,
   "metadata": {},
   "outputs": [],
   "source": [
    "\n",
    "import time\n",
    "import os\n",
    "import shutil\n",
    "import pandas as pd\n",
    "from datetime import datetime\n",
    "from dateutil import tz\n",
    "import warnings\n",
    "import itertools\n",
    "\n",
    "import math\n",
    "import matplotlib.pyplot as plt\n",
    "import numpy as np\n",
    "from sklearn import datasets, linear_model\n",
    "from sklearn.metrics import mean_squared_error, r2_score\n",
    "from sklearn.model_selection import train_test_split\n",
    "\n"
   ]
  },
  {
   "cell_type": "code",
   "execution_count": 2,
   "metadata": {},
   "outputs": [
    {
     "name": "stdout",
     "output_type": "stream",
     "text": [
      "Importing Data Now\n"
     ]
    }
   ],
   "source": [
    "# Remove the NaN rows and columns\n",
    "\n",
    "def removeNaN(curr_feat_1, curr_feat_2):\n",
    "    curr_feat_1_nan = np.array([])  # numpy.float64\n",
    "    curr_feat_2_nan = np.array([])  # numpy.float64\n",
    "    posi = 0\n",
    "    # *** Check for and remove the Nan rows in from ONLY [curr_feat_2] feature rows\n",
    "    for posi in range(len(curr_feat_2)):\n",
    "        if not (math.isnan(curr_feat_2[posi])):# and not(math.isnan(curr_feat_1[posi]))):\n",
    "            curr_feat_1_nan = np.append(curr_feat_1_nan, curr_feat_1[posi])\n",
    "            curr_feat_2_nan = np.append(curr_feat_2_nan, curr_feat_2[posi])\n",
    "            if (posi < 10):\n",
    "                print(curr_feat_2_nan[posi])\n",
    "        if (math.isnan(curr_feat_1[posi])):\n",
    "            # curr_feat_1_nan = np.append(curr_feat_1_nan, curr_feat_1[posi])\n",
    "            # curr_feat_2_nan = np.append(curr_feat_2_nan, curr_feat_2[posi])\n",
    "            if (posi < 10):\n",
    "                print(curr_feat_2_nan[posi])\n",
    "    return curr_feat_1_nan, curr_feat_2_nan\n",
    "\n",
    "#### Import .csv dataset into pandas\n",
    "print('Importing Data Now')\n",
    "\n",
    "#filename = '/Users/Mandala/PycharmProjects/ML_Project/windowing_results.csv'\n",
    "filename = 'heart_rate_new.csv'\n",
    "\n",
    "# Read data from csv file \n",
    "df_feat = pd.read_csv(filename)\n",
    "df_keys = df_feat.keys()\n",
    "\n"
   ]
  },
  {
   "cell_type": "code",
   "execution_count": 3,
   "metadata": {},
   "outputs": [
    {
     "data": {
      "text/html": [
       "<div>\n",
       "<style scoped>\n",
       "    .dataframe tbody tr th:only-of-type {\n",
       "        vertical-align: middle;\n",
       "    }\n",
       "\n",
       "    .dataframe tbody tr th {\n",
       "        vertical-align: top;\n",
       "    }\n",
       "\n",
       "    .dataframe thead th {\n",
       "        text-align: right;\n",
       "    }\n",
       "</style>\n",
       "<table border=\"1\" class=\"dataframe\">\n",
       "  <thead>\n",
       "    <tr style=\"text-align: right;\">\n",
       "      <th></th>\n",
       "      <th>Unnamed: 0</th>\n",
       "      <th>GSR #</th>\n",
       "      <th>start_time</th>\n",
       "      <th>end_time</th>\n",
       "      <th>hr_mean</th>\n",
       "      <th>hr_std</th>\n",
       "      <th>hr_50%</th>\n",
       "      <th>Activity</th>\n",
       "    </tr>\n",
       "  </thead>\n",
       "  <tbody>\n",
       "    <tr>\n",
       "      <td>0</td>\n",
       "      <td>Heart_rate</td>\n",
       "      <td>1</td>\n",
       "      <td>2019-11-21 09:35:27</td>\n",
       "      <td>2019-11-21 09:35:31</td>\n",
       "      <td>-1.0</td>\n",
       "      <td>0.0</td>\n",
       "      <td>-1.0</td>\n",
       "      <td>(0,0)</td>\n",
       "    </tr>\n",
       "    <tr>\n",
       "      <td>1</td>\n",
       "      <td>Heart_rate</td>\n",
       "      <td>1</td>\n",
       "      <td>2019-11-21 09:35:29</td>\n",
       "      <td>2019-11-21 09:35:33</td>\n",
       "      <td>-1.0</td>\n",
       "      <td>0.0</td>\n",
       "      <td>-1.0</td>\n",
       "      <td>(0,0)</td>\n",
       "    </tr>\n",
       "    <tr>\n",
       "      <td>2</td>\n",
       "      <td>Heart_rate</td>\n",
       "      <td>1</td>\n",
       "      <td>2019-11-21 09:35:31</td>\n",
       "      <td>2019-11-21 09:35:35</td>\n",
       "      <td>-1.0</td>\n",
       "      <td>0.0</td>\n",
       "      <td>-1.0</td>\n",
       "      <td>(0,0)</td>\n",
       "    </tr>\n",
       "    <tr>\n",
       "      <td>3</td>\n",
       "      <td>Heart_rate</td>\n",
       "      <td>1</td>\n",
       "      <td>2019-11-21 09:35:33</td>\n",
       "      <td>2019-11-21 09:35:37</td>\n",
       "      <td>-1.0</td>\n",
       "      <td>0.0</td>\n",
       "      <td>-1.0</td>\n",
       "      <td>(0,0)</td>\n",
       "    </tr>\n",
       "    <tr>\n",
       "      <td>4</td>\n",
       "      <td>Heart_rate</td>\n",
       "      <td>1</td>\n",
       "      <td>2019-11-21 09:35:35</td>\n",
       "      <td>2019-11-21 09:35:39</td>\n",
       "      <td>-1.0</td>\n",
       "      <td>0.0</td>\n",
       "      <td>-1.0</td>\n",
       "      <td>(0,0)</td>\n",
       "    </tr>\n",
       "    <tr>\n",
       "      <td>...</td>\n",
       "      <td>...</td>\n",
       "      <td>...</td>\n",
       "      <td>...</td>\n",
       "      <td>...</td>\n",
       "      <td>...</td>\n",
       "      <td>...</td>\n",
       "      <td>...</td>\n",
       "      <td>...</td>\n",
       "    </tr>\n",
       "    <tr>\n",
       "      <td>5100</td>\n",
       "      <td>Heart_rate</td>\n",
       "      <td>6</td>\n",
       "      <td>2019-11-21 11:00:28</td>\n",
       "      <td>2019-11-21 11:00:32</td>\n",
       "      <td>-1.0</td>\n",
       "      <td>0.0</td>\n",
       "      <td>-1.0</td>\n",
       "      <td>(2,3)</td>\n",
       "    </tr>\n",
       "    <tr>\n",
       "      <td>5101</td>\n",
       "      <td>Heart_rate</td>\n",
       "      <td>6</td>\n",
       "      <td>2019-11-21 11:00:30</td>\n",
       "      <td>2019-11-21 11:00:34</td>\n",
       "      <td>-1.0</td>\n",
       "      <td>0.0</td>\n",
       "      <td>-1.0</td>\n",
       "      <td>(2,3)</td>\n",
       "    </tr>\n",
       "    <tr>\n",
       "      <td>5102</td>\n",
       "      <td>Heart_rate</td>\n",
       "      <td>6</td>\n",
       "      <td>2019-11-21 11:00:32</td>\n",
       "      <td>2019-11-21 11:00:36</td>\n",
       "      <td>-1.0</td>\n",
       "      <td>0.0</td>\n",
       "      <td>-1.0</td>\n",
       "      <td>(2,3)</td>\n",
       "    </tr>\n",
       "    <tr>\n",
       "      <td>5103</td>\n",
       "      <td>Heart_rate</td>\n",
       "      <td>6</td>\n",
       "      <td>2019-11-21 11:00:34</td>\n",
       "      <td>2019-11-21 11:00:38</td>\n",
       "      <td>-1.0</td>\n",
       "      <td>0.0</td>\n",
       "      <td>-1.0</td>\n",
       "      <td>(2,3)</td>\n",
       "    </tr>\n",
       "    <tr>\n",
       "      <td>5104</td>\n",
       "      <td>Heart_rate</td>\n",
       "      <td>6</td>\n",
       "      <td>2019-11-21 11:00:36</td>\n",
       "      <td>2019-11-21 11:00:40</td>\n",
       "      <td>-1.0</td>\n",
       "      <td>0.0</td>\n",
       "      <td>-1.0</td>\n",
       "      <td>(2,3)</td>\n",
       "    </tr>\n",
       "  </tbody>\n",
       "</table>\n",
       "<p>5105 rows × 8 columns</p>\n",
       "</div>"
      ],
      "text/plain": [
       "      Unnamed: 0  GSR #           start_time             end_time  hr_mean  \\\n",
       "0     Heart_rate      1  2019-11-21 09:35:27  2019-11-21 09:35:31     -1.0   \n",
       "1     Heart_rate      1  2019-11-21 09:35:29  2019-11-21 09:35:33     -1.0   \n",
       "2     Heart_rate      1  2019-11-21 09:35:31  2019-11-21 09:35:35     -1.0   \n",
       "3     Heart_rate      1  2019-11-21 09:35:33  2019-11-21 09:35:37     -1.0   \n",
       "4     Heart_rate      1  2019-11-21 09:35:35  2019-11-21 09:35:39     -1.0   \n",
       "...          ...    ...                  ...                  ...      ...   \n",
       "5100  Heart_rate      6  2019-11-21 11:00:28  2019-11-21 11:00:32     -1.0   \n",
       "5101  Heart_rate      6  2019-11-21 11:00:30  2019-11-21 11:00:34     -1.0   \n",
       "5102  Heart_rate      6  2019-11-21 11:00:32  2019-11-21 11:00:36     -1.0   \n",
       "5103  Heart_rate      6  2019-11-21 11:00:34  2019-11-21 11:00:38     -1.0   \n",
       "5104  Heart_rate      6  2019-11-21 11:00:36  2019-11-21 11:00:40     -1.0   \n",
       "\n",
       "      hr_std  hr_50% Activity  \n",
       "0        0.0    -1.0    (0,0)  \n",
       "1        0.0    -1.0    (0,0)  \n",
       "2        0.0    -1.0    (0,0)  \n",
       "3        0.0    -1.0    (0,0)  \n",
       "4        0.0    -1.0    (0,0)  \n",
       "...      ...     ...      ...  \n",
       "5100     0.0    -1.0    (2,3)  \n",
       "5101     0.0    -1.0    (2,3)  \n",
       "5102     0.0    -1.0    (2,3)  \n",
       "5103     0.0    -1.0    (2,3)  \n",
       "5104     0.0    -1.0    (2,3)  \n",
       "\n",
       "[5105 rows x 8 columns]"
      ]
     },
     "execution_count": 3,
     "metadata": {},
     "output_type": "execute_result"
    }
   ],
   "source": [
    "df_feat"
   ]
  },
  {
   "cell_type": "code",
   "execution_count": 4,
   "metadata": {},
   "outputs": [
    {
     "name": "stdout",
     "output_type": "stream",
     "text": [
      "Index(['Unnamed: 0', 'GSR #', 'start_time', 'end_time', 'hr_mean', 'hr_std',\n",
      "       'hr_50%', 'Activity'],\n",
      "      dtype='object')\n"
     ]
    },
    {
     "data": {
      "text/plain": [
       "8"
      ]
     },
     "execution_count": 4,
     "metadata": {},
     "output_type": "execute_result"
    }
   ],
   "source": [
    "print(df_keys)\n",
    "len(df_keys)"
   ]
  },
  {
   "cell_type": "code",
   "execution_count": 5,
   "metadata": {},
   "outputs": [
    {
     "name": "stdout",
     "output_type": "stream",
     "text": [
      "      hr_mean  hr_std  hr_50%\n",
      "0        -1.0     0.0    -1.0\n",
      "1        -1.0     0.0    -1.0\n",
      "2        -1.0     0.0    -1.0\n",
      "3        -1.0     0.0    -1.0\n",
      "4        -1.0     0.0    -1.0\n",
      "...       ...     ...     ...\n",
      "5100     -1.0     0.0    -1.0\n",
      "5101     -1.0     0.0    -1.0\n",
      "5102     -1.0     0.0    -1.0\n",
      "5103     -1.0     0.0    -1.0\n",
      "5104     -1.0     0.0    -1.0\n",
      "\n",
      "[5105 rows x 3 columns]\n",
      "0       (0,0)\n",
      "1       (0,0)\n",
      "2       (0,0)\n",
      "3       (0,0)\n",
      "4       (0,0)\n",
      "        ...  \n",
      "5100    (2,3)\n",
      "5101    (2,3)\n",
      "5102    (2,3)\n",
      "5103    (2,3)\n",
      "5104    (2,3)\n",
      "Name: Activity, Length: 5105, dtype: object\n"
     ]
    }
   ],
   "source": [
    "# Data Preprocessing\n",
    "df = df_feat.copy()\n",
    "df = df.dropna()\n",
    "\n",
    "Xs = df[df_keys[4:7]]\n",
    "y = df['Activity']\n",
    "\n",
    "print(Xs)\n",
    "print(y)"
   ]
  },
  {
   "cell_type": "code",
   "execution_count": 6,
   "metadata": {},
   "outputs": [
    {
     "data": {
      "text/plain": [
       "KNeighborsClassifier(algorithm='auto', leaf_size=30, metric='minkowski',\n",
       "                     metric_params=None, n_jobs=None, n_neighbors=7, p=2,\n",
       "                     weights='uniform')"
      ]
     },
     "execution_count": 6,
     "metadata": {},
     "output_type": "execute_result"
    }
   ],
   "source": [
    "# This is the data split\n",
    "\n",
    "X_train, X_test, y_train, y_test = train_test_split(Xs, y, test_size=0.2, random_state=10)\n",
    "\n",
    "# Training the model\n",
    "from sklearn.neighbors import KNeighborsClassifier\n",
    "classifier = KNeighborsClassifier(n_neighbors=7)\n",
    "classifier.fit(X_train, y_train)"
   ]
  },
  {
   "cell_type": "code",
   "execution_count": 7,
   "metadata": {},
   "outputs": [
    {
     "name": "stdout",
     "output_type": "stream",
     "text": [
      "['(0,3)' '(0,2)' '(1,3)' ... '(2,3)' '(2,3)' '(2,3)']\n"
     ]
    }
   ],
   "source": [
    "y_pred = classifier.predict(X_test)\n",
    "print(y_pred)"
   ]
  },
  {
   "cell_type": "code",
   "execution_count": 8,
   "metadata": {},
   "outputs": [
    {
     "data": {
      "text/plain": [
       "1021"
      ]
     },
     "execution_count": 8,
     "metadata": {},
     "output_type": "execute_result"
    }
   ],
   "source": [
    "len(y_pred)"
   ]
  },
  {
   "cell_type": "code",
   "execution_count": 9,
   "metadata": {},
   "outputs": [
    {
     "data": {
      "text/plain": [
       "1021"
      ]
     },
     "execution_count": 9,
     "metadata": {},
     "output_type": "execute_result"
    }
   ],
   "source": [
    "len(y_test)"
   ]
  },
  {
   "cell_type": "code",
   "execution_count": 10,
   "metadata": {},
   "outputs": [
    {
     "name": "stdout",
     "output_type": "stream",
     "text": [
      "[[ 0  0  2  0  0  2  0  0  0  0  0 23]\n",
      " [ 0 33  6  6  1  5  7  2  0  2  3 40]\n",
      " [ 1 26 16  8  3 10  9  3  0  2  7 24]\n",
      " [ 0 18  8  9  1  1  6  2  0  2  9 33]\n",
      " [ 0  0  2  0  1  1  1  2  0  0  4  5]\n",
      " [ 0  5  5  9  2 13  3  6  0  1  9 37]\n",
      " [ 2  5 19  3  1 14 24 10  0  4 11 59]\n",
      " [ 0  8  1  3  2  2  9 14  0  1  7 56]\n",
      " [ 0  0  5  2  0  1  1  1  0  1  1  7]\n",
      " [ 0  6  9  2  3  7  8  2  0  4  8 31]\n",
      " [ 0 12 13  5  2  6 18  9  0  7 15 50]\n",
      " [ 0  0  7  5  0  7  8  6  1  1  4 55]]\n",
      "              precision    recall  f1-score   support\n",
      "\n",
      "       (0,0)       0.00      0.00      0.00        27\n",
      "       (0,1)       0.29      0.31      0.30       105\n",
      "       (0,2)       0.17      0.15      0.16       109\n",
      "       (0,3)       0.17      0.10      0.13        89\n",
      "       (1,0)       0.06      0.06      0.06        16\n",
      "       (1,1)       0.19      0.14      0.16        90\n",
      "       (1,2)       0.26      0.16      0.20       152\n",
      "       (1,3)       0.25      0.14      0.17       103\n",
      "       (2,0)       0.00      0.00      0.00        19\n",
      "       (2,1)       0.16      0.05      0.08        80\n",
      "       (2,2)       0.19      0.11      0.14       137\n",
      "       (2,3)       0.13      0.59      0.21        94\n",
      "\n",
      "    accuracy                           0.18      1021\n",
      "   macro avg       0.16      0.15      0.13      1021\n",
      "weighted avg       0.19      0.18      0.17      1021\n",
      "\n",
      "0.1802154750244858\n"
     ]
    }
   ],
   "source": [
    "from sklearn.metrics import classification_report, confusion_matrix,accuracy_score\n",
    "print(confusion_matrix(y_test, y_pred))\n",
    "print(classification_report(y_test, y_pred))\n",
    "print(accuracy_score(y_test,y_pred))"
   ]
  },
  {
   "cell_type": "code",
   "execution_count": 11,
   "metadata": {},
   "outputs": [],
   "source": [
    "accuracy = []\n",
    "\n",
    "# Calculating error for K values between 1 and 40\n",
    "for i in range(1, 40):\n",
    "    knn = KNeighborsClassifier(n_neighbors=i)\n",
    "    knn.fit(X_train, y_train)\n",
    "    y_pred = classifier.predict(X_test)\n",
    "    accuracy.append(accuracy_score(y_test,y_pred))"
   ]
  },
  {
   "cell_type": "code",
   "execution_count": 12,
   "metadata": {},
   "outputs": [
    {
     "data": {
      "text/plain": [
       "Text(0, 0.5, 'Accuracy')"
      ]
     },
     "execution_count": 12,
     "metadata": {},
     "output_type": "execute_result"
    },
    {
     "data": {
      "image/png": "[encoded data removed]",
      "text/plain": [
       "<Figure size 864x432 with 1 Axes>"
      ]
     },
     "metadata": {
      "needs_background": "light"
     },
     "output_type": "display_data"
    }
   ],
   "source": [
    "plt.figure(figsize=(12, 6))\n",
    "plt.plot(range(1, 40), accuracy, color='red', linestyle='dashed', marker='o',\n",
    "         markerfacecolor='blue', markersize=10)\n",
    "plt.title('Accuracy K Value')\n",
    "plt.xlabel('K Value')\n",
    "plt.ylabel('Accuracy')"
   ]
  },
  {
   "cell_type": "code",
   "execution_count": 13,
   "metadata": {},
   "outputs": [],
   "source": [
    "df_video = df.loc[(df.Activity == \"(0,0)\") | (df.Activity == \"(0,1)\") | (df.Activity == \"(0,2)\") | (df.Activity == \"(0,3)\")]"
   ]
  },
  {
   "cell_type": "code",
   "execution_count": 14,
   "metadata": {},
   "outputs": [],
   "source": [
    "df_noeval = df.loc[(df.Activity == \"(1,0)\") | (df.Activity == \"(1,1)\") | (df.Activity == \"(1,2)\") | (df.Activity == \"(1,3)\")]"
   ]
  },
  {
   "cell_type": "code",
   "execution_count": 15,
   "metadata": {},
   "outputs": [],
   "source": [
    "df_eval = df.loc[(df.Activity == \"(2,0)\") | (df.Activity == \"(2,1)\") | (df.Activity == \"(2,2)\") | (df.Activity == \"(2,3)\")]"
   ]
  },
  {
   "cell_type": "code",
   "execution_count": 16,
   "metadata": {},
   "outputs": [],
   "source": [
    "def kNN(x):\n",
    "    y = x.copy()\n",
    "    df = y.dropna()\n",
    "\n",
    "    Xs = df[df_keys[4:7]]\n",
    "    y = df['Activity']\n",
    "    \n",
    "    X_train, X_test, y_train, y_test = train_test_split(Xs, y, test_size=0.2, random_state=10)\n",
    "\n",
    "    from sklearn.neighbors import KNeighborsClassifier\n",
    "    classifier = KNeighborsClassifier(n_neighbors=7)\n",
    "    classifier.fit(X_train, y_train)\n",
    "    \n",
    "    y_pred = classifier.predict(X_test)\n",
    "    \n",
    "    from sklearn.metrics import classification_report, confusion_matrix,accuracy_score\n",
    "    print(confusion_matrix(y_test, y_pred))\n",
    "    print(classification_report(y_test, y_pred))\n",
    "    print(accuracy_score(y_test,y_pred))"
   ]
  },
  {
   "cell_type": "code",
   "execution_count": 17,
   "metadata": {},
   "outputs": [
    {
     "name": "stdout",
     "output_type": "stream",
     "text": [
      "[[ 1  4 17  2]\n",
      " [ 0 19 79  5]\n",
      " [ 2 17 81  9]\n",
      " [ 1 22 66 13]]\n",
      "              precision    recall  f1-score   support\n",
      "\n",
      "       (0,0)       0.25      0.04      0.07        24\n",
      "       (0,1)       0.31      0.18      0.23       103\n",
      "       (0,2)       0.33      0.74      0.46       109\n",
      "       (0,3)       0.45      0.13      0.20       102\n",
      "\n",
      "    accuracy                           0.34       338\n",
      "   macro avg       0.33      0.27      0.24       338\n",
      "weighted avg       0.35      0.34      0.28       338\n",
      "\n",
      "0.33727810650887574\n"
     ]
    }
   ],
   "source": [
    "kNN(df_video)"
   ]
  },
  {
   "cell_type": "code",
   "execution_count": 18,
   "metadata": {},
   "outputs": [
    {
     "name": "stdout",
     "output_type": "stream",
     "text": [
      "[[  2   4  10   4]\n",
      " [  2  28  64   6]\n",
      " [  2  20 114  10]\n",
      " [  3  11  72  13]]\n",
      "              precision    recall  f1-score   support\n",
      "\n",
      "       (1,0)       0.22      0.10      0.14        20\n",
      "       (1,1)       0.44      0.28      0.34       100\n",
      "       (1,2)       0.44      0.78      0.56       146\n",
      "       (1,3)       0.39      0.13      0.20        99\n",
      "\n",
      "    accuracy                           0.43       365\n",
      "   macro avg       0.37      0.32      0.31       365\n",
      "weighted avg       0.42      0.43      0.38       365\n",
      "\n",
      "0.4301369863013699\n"
     ]
    }
   ],
   "source": [
    "kNN(df_noeval)"
   ]
  },
  {
   "cell_type": "code",
   "execution_count": 19,
   "metadata": {},
   "outputs": [
    {
     "name": "stdout",
     "output_type": "stream",
     "text": [
      "[[  0   5  10   4]\n",
      " [  0  11  52   5]\n",
      " [  0  23 110   3]\n",
      " [  1  14  73   8]]\n",
      "              precision    recall  f1-score   support\n",
      "\n",
      "       (2,0)       0.00      0.00      0.00        19\n",
      "       (2,1)       0.21      0.16      0.18        68\n",
      "       (2,2)       0.45      0.81      0.58       136\n",
      "       (2,3)       0.40      0.08      0.14        96\n",
      "\n",
      "    accuracy                           0.40       319\n",
      "   macro avg       0.26      0.26      0.22       319\n",
      "weighted avg       0.36      0.40      0.33       319\n",
      "\n",
      "0.4043887147335423\n"
     ]
    }
   ],
   "source": [
    "kNN(df_eval)"
   ]
  },
  {
   "cell_type": "code",
   "execution_count": null,
   "metadata": {},
   "outputs": [],
   "source": []
  }
 ],
 "metadata": {
  "kernelspec": {
   "display_name": "Python 3",
   "language": "python",
   "name": "python3"
  },
  "language_info": {
   "codemirror_mode": {
    "name": "ipython",
    "version": 3
   },
   "file_extension": ".py",
   "mimetype": "text/x-python",
   "name": "python",
   "nbconvert_exporter": "python",
   "pygments_lexer": "ipython3",
   "version": "3.7.4"
  }
 },
 "nbformat": 4,
 "nbformat_minor": 2
}
