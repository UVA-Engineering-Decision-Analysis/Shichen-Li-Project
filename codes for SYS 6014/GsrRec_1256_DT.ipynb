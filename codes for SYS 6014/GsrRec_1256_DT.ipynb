{
 "cells": [
  {
   "cell_type": "code",
   "execution_count": 33,
   "metadata": {},
   "outputs": [],
   "source": [
    "# CS 6316 ML Project: LASSO\n",
    "# Created on Wed Apr 29 22:23 2020 \n",
    "# @author: sl4bq\n",
    "\n",
    "import time\n",
    "import os\n",
    "import shutil\n",
    "import pandas as pd\n",
    "from datetime import datetime\n",
    "from dateutil import tz\n",
    "import warnings\n",
    "import itertools\n",
    "\n",
    "import math\n",
    "import matplotlib.pyplot as plt\n",
    "import numpy as np\n",
    "from sklearn import datasets, linear_model\n",
    "from sklearn.metrics import mean_squared_error, r2_score\n",
    "from sklearn.model_selection import train_test_split\n",
    "\n"
   ]
  },
  {
   "cell_type": "code",
   "execution_count": 20,
   "metadata": {},
   "outputs": [
    {
     "name": "stdout",
     "output_type": "stream",
     "text": [
      "Importing Data Now\n"
     ]
    }
   ],
   "source": [
    "# Remove the NaN rows and columns\n",
    "\n",
    "def removeNaN(curr_feat_1, curr_feat_2):\n",
    "    curr_feat_1_nan = np.array([])  # numpy.float64\n",
    "    curr_feat_2_nan = np.array([])  # numpy.float64\n",
    "    posi = 0\n",
    "    # *** Check for and remove the Nan rows in from ONLY [curr_feat_2] feature rows\n",
    "    for posi in range(len(curr_feat_2)):\n",
    "        if not (math.isnan(curr_feat_2[posi])):# and not(math.isnan(curr_feat_1[posi]))):\n",
    "            curr_feat_1_nan = np.append(curr_feat_1_nan, curr_feat_1[posi])\n",
    "            curr_feat_2_nan = np.append(curr_feat_2_nan, curr_feat_2[posi])\n",
    "            if (posi < 10):\n",
    "                print(curr_feat_2_nan[posi])\n",
    "        if (math.isnan(curr_feat_1[posi])):\n",
    "            # curr_feat_1_nan = np.append(curr_feat_1_nan, curr_feat_1[posi])\n",
    "            # curr_feat_2_nan = np.append(curr_feat_2_nan, curr_feat_2[posi])\n",
    "            if (posi < 10):\n",
    "                print(curr_feat_2_nan[posi])\n",
    "    return curr_feat_1_nan, curr_feat_2_nan\n",
    "\n",
    "#### Import .csv dataset into pandas\n",
    "print('Importing Data Now')\n",
    "\n",
    "#filename = '/Users/Mandala/PycharmProjects/ML_Project/windowing_results.csv'\n",
    "filename = 'skin_conductance_new.csv'\n",
    "\n",
    "# Read data from csv file \n",
    "df_feat = pd.read_csv(filename)\n",
    "df_keys = df_feat.keys()\n",
    "\n"
   ]
  },
  {
   "cell_type": "code",
   "execution_count": 21,
   "metadata": {},
   "outputs": [
    {
     "data": {
      "text/html": [
       "<div>\n",
       "<style scoped>\n",
       "    .dataframe tbody tr th:only-of-type {\n",
       "        vertical-align: middle;\n",
       "    }\n",
       "\n",
       "    .dataframe tbody tr th {\n",
       "        vertical-align: top;\n",
       "    }\n",
       "\n",
       "    .dataframe thead th {\n",
       "        text-align: right;\n",
       "    }\n",
       "</style>\n",
       "<table border=\"1\" class=\"dataframe\">\n",
       "  <thead>\n",
       "    <tr style=\"text-align: right;\">\n",
       "      <th></th>\n",
       "      <th>Unnamed: 0</th>\n",
       "      <th>Unnamed: 0.1</th>\n",
       "      <th>GSR #</th>\n",
       "      <th>start_time</th>\n",
       "      <th>end_time</th>\n",
       "      <th>gsr_mean</th>\n",
       "      <th>gsr_median</th>\n",
       "      <th>gsr_variance</th>\n",
       "      <th>gsr_skewness</th>\n",
       "      <th>gsr_kurtosis</th>\n",
       "      <th>Act</th>\n",
       "    </tr>\n",
       "  </thead>\n",
       "  <tbody>\n",
       "    <tr>\n",
       "      <td>0</td>\n",
       "      <td>0</td>\n",
       "      <td>GSR1_GSR_Skin_Conductance_CAL</td>\n",
       "      <td>1</td>\n",
       "      <td>2019-11-21 09:35:27</td>\n",
       "      <td>2019-11-21 09:35:29</td>\n",
       "      <td>1.355378</td>\n",
       "      <td>1.332223</td>\n",
       "      <td>0.000256</td>\n",
       "      <td>0.699293</td>\n",
       "      <td>-0.627312</td>\n",
       "      <td>(0,0)</td>\n",
       "    </tr>\n",
       "    <tr>\n",
       "      <td>1</td>\n",
       "      <td>1</td>\n",
       "      <td>GSR1_GSR_Skin_Conductance_CAL</td>\n",
       "      <td>1</td>\n",
       "      <td>2019-11-21 09:35:28</td>\n",
       "      <td>2019-11-21 09:35:30</td>\n",
       "      <td>1.339162</td>\n",
       "      <td>1.318903</td>\n",
       "      <td>0.000125</td>\n",
       "      <td>-0.100332</td>\n",
       "      <td>-1.238669</td>\n",
       "      <td>(0,0)</td>\n",
       "    </tr>\n",
       "    <tr>\n",
       "      <td>2</td>\n",
       "      <td>2</td>\n",
       "      <td>GSR1_GSR_Skin_Conductance_CAL</td>\n",
       "      <td>1</td>\n",
       "      <td>2019-11-21 09:35:29</td>\n",
       "      <td>2019-11-21 09:35:31</td>\n",
       "      <td>1.326166</td>\n",
       "      <td>1.306471</td>\n",
       "      <td>0.000135</td>\n",
       "      <td>0.010484</td>\n",
       "      <td>-1.243451</td>\n",
       "      <td>(0,0)</td>\n",
       "    </tr>\n",
       "    <tr>\n",
       "      <td>3</td>\n",
       "      <td>3</td>\n",
       "      <td>GSR1_GSR_Skin_Conductance_CAL</td>\n",
       "      <td>1</td>\n",
       "      <td>2019-11-21 09:35:30</td>\n",
       "      <td>2019-11-21 09:35:32</td>\n",
       "      <td>1.313587</td>\n",
       "      <td>1.294483</td>\n",
       "      <td>0.000113</td>\n",
       "      <td>0.140383</td>\n",
       "      <td>-1.149240</td>\n",
       "      <td>(0,0)</td>\n",
       "    </tr>\n",
       "    <tr>\n",
       "      <td>4</td>\n",
       "      <td>4</td>\n",
       "      <td>GSR1_GSR_Skin_Conductance_CAL</td>\n",
       "      <td>1</td>\n",
       "      <td>2019-11-21 09:35:31</td>\n",
       "      <td>2019-11-21 09:35:33</td>\n",
       "      <td>1.302077</td>\n",
       "      <td>1.286491</td>\n",
       "      <td>0.000085</td>\n",
       "      <td>0.139074</td>\n",
       "      <td>-1.145452</td>\n",
       "      <td>(0,0)</td>\n",
       "    </tr>\n",
       "    <tr>\n",
       "      <td>...</td>\n",
       "      <td>...</td>\n",
       "      <td>...</td>\n",
       "      <td>...</td>\n",
       "      <td>...</td>\n",
       "      <td>...</td>\n",
       "      <td>...</td>\n",
       "      <td>...</td>\n",
       "      <td>...</td>\n",
       "      <td>...</td>\n",
       "      <td>...</td>\n",
       "      <td>...</td>\n",
       "    </tr>\n",
       "    <tr>\n",
       "      <td>10286</td>\n",
       "      <td>10286</td>\n",
       "      <td>GSR6_GSR_Skin_Conductance_CAL</td>\n",
       "      <td>6</td>\n",
       "      <td>2019-11-21 11:00:35</td>\n",
       "      <td>2019-11-21 11:00:37</td>\n",
       "      <td>1.873922</td>\n",
       "      <td>1.857143</td>\n",
       "      <td>0.000018</td>\n",
       "      <td>1.241958</td>\n",
       "      <td>5.575090</td>\n",
       "      <td>(2,3)</td>\n",
       "    </tr>\n",
       "    <tr>\n",
       "      <td>10287</td>\n",
       "      <td>10287</td>\n",
       "      <td>GSR6_GSR_Skin_Conductance_CAL</td>\n",
       "      <td>6</td>\n",
       "      <td>2019-11-21 11:00:36</td>\n",
       "      <td>2019-11-21 11:00:38</td>\n",
       "      <td>1.872439</td>\n",
       "      <td>1.838095</td>\n",
       "      <td>0.000022</td>\n",
       "      <td>0.428993</td>\n",
       "      <td>5.263945</td>\n",
       "      <td>(2,3)</td>\n",
       "    </tr>\n",
       "    <tr>\n",
       "      <td>10288</td>\n",
       "      <td>10288</td>\n",
       "      <td>GSR6_GSR_Skin_Conductance_CAL</td>\n",
       "      <td>6</td>\n",
       "      <td>2019-11-21 11:00:37</td>\n",
       "      <td>2019-11-21 11:00:39</td>\n",
       "      <td>1.869794</td>\n",
       "      <td>1.838095</td>\n",
       "      <td>0.000021</td>\n",
       "      <td>0.490440</td>\n",
       "      <td>4.582487</td>\n",
       "      <td>(2,3)</td>\n",
       "    </tr>\n",
       "    <tr>\n",
       "      <td>10289</td>\n",
       "      <td>10289</td>\n",
       "      <td>GSR6_GSR_Skin_Conductance_CAL</td>\n",
       "      <td>6</td>\n",
       "      <td>2019-11-21 11:00:38</td>\n",
       "      <td>2019-11-21 11:00:40</td>\n",
       "      <td>1.866879</td>\n",
       "      <td>1.838095</td>\n",
       "      <td>0.000020</td>\n",
       "      <td>0.256191</td>\n",
       "      <td>3.974350</td>\n",
       "      <td>(2,3)</td>\n",
       "    </tr>\n",
       "    <tr>\n",
       "      <td>10290</td>\n",
       "      <td>10290</td>\n",
       "      <td>GSR6_GSR_Skin_Conductance_CAL</td>\n",
       "      <td>6</td>\n",
       "      <td>2019-11-21 11:00:39</td>\n",
       "      <td>2019-11-21 11:00:41</td>\n",
       "      <td>1.865581</td>\n",
       "      <td>1.842491</td>\n",
       "      <td>0.000017</td>\n",
       "      <td>0.676028</td>\n",
       "      <td>4.517975</td>\n",
       "      <td>(2,3)</td>\n",
       "    </tr>\n",
       "  </tbody>\n",
       "</table>\n",
       "<p>10291 rows × 11 columns</p>\n",
       "</div>"
      ],
      "text/plain": [
       "       Unnamed: 0                   Unnamed: 0.1  GSR #           start_time  \\\n",
       "0               0  GSR1_GSR_Skin_Conductance_CAL      1  2019-11-21 09:35:27   \n",
       "1               1  GSR1_GSR_Skin_Conductance_CAL      1  2019-11-21 09:35:28   \n",
       "2               2  GSR1_GSR_Skin_Conductance_CAL      1  2019-11-21 09:35:29   \n",
       "3               3  GSR1_GSR_Skin_Conductance_CAL      1  2019-11-21 09:35:30   \n",
       "4               4  GSR1_GSR_Skin_Conductance_CAL      1  2019-11-21 09:35:31   \n",
       "...           ...                            ...    ...                  ...   \n",
       "10286       10286  GSR6_GSR_Skin_Conductance_CAL      6  2019-11-21 11:00:35   \n",
       "10287       10287  GSR6_GSR_Skin_Conductance_CAL      6  2019-11-21 11:00:36   \n",
       "10288       10288  GSR6_GSR_Skin_Conductance_CAL      6  2019-11-21 11:00:37   \n",
       "10289       10289  GSR6_GSR_Skin_Conductance_CAL      6  2019-11-21 11:00:38   \n",
       "10290       10290  GSR6_GSR_Skin_Conductance_CAL      6  2019-11-21 11:00:39   \n",
       "\n",
       "                  end_time  gsr_mean  gsr_median  gsr_variance  gsr_skewness  \\\n",
       "0      2019-11-21 09:35:29  1.355378    1.332223      0.000256      0.699293   \n",
       "1      2019-11-21 09:35:30  1.339162    1.318903      0.000125     -0.100332   \n",
       "2      2019-11-21 09:35:31  1.326166    1.306471      0.000135      0.010484   \n",
       "3      2019-11-21 09:35:32  1.313587    1.294483      0.000113      0.140383   \n",
       "4      2019-11-21 09:35:33  1.302077    1.286491      0.000085      0.139074   \n",
       "...                    ...       ...         ...           ...           ...   \n",
       "10286  2019-11-21 11:00:37  1.873922    1.857143      0.000018      1.241958   \n",
       "10287  2019-11-21 11:00:38  1.872439    1.838095      0.000022      0.428993   \n",
       "10288  2019-11-21 11:00:39  1.869794    1.838095      0.000021      0.490440   \n",
       "10289  2019-11-21 11:00:40  1.866879    1.838095      0.000020      0.256191   \n",
       "10290  2019-11-21 11:00:41  1.865581    1.842491      0.000017      0.676028   \n",
       "\n",
       "       gsr_kurtosis    Act  \n",
       "0         -0.627312  (0,0)  \n",
       "1         -1.238669  (0,0)  \n",
       "2         -1.243451  (0,0)  \n",
       "3         -1.149240  (0,0)  \n",
       "4         -1.145452  (0,0)  \n",
       "...             ...    ...  \n",
       "10286      5.575090  (2,3)  \n",
       "10287      5.263945  (2,3)  \n",
       "10288      4.582487  (2,3)  \n",
       "10289      3.974350  (2,3)  \n",
       "10290      4.517975  (2,3)  \n",
       "\n",
       "[10291 rows x 11 columns]"
      ]
     },
     "execution_count": 21,
     "metadata": {},
     "output_type": "execute_result"
    }
   ],
   "source": [
    "df_feat"
   ]
  },
  {
   "cell_type": "code",
   "execution_count": 22,
   "metadata": {},
   "outputs": [
    {
     "name": "stdout",
     "output_type": "stream",
     "text": [
      "Index(['Unnamed: 0', 'Unnamed: 0.1', 'GSR #', 'start_time', 'end_time',\n",
      "       'gsr_mean', 'gsr_median', 'gsr_variance', 'gsr_skewness',\n",
      "       'gsr_kurtosis', 'Act'],\n",
      "      dtype='object')\n"
     ]
    },
    {
     "data": {
      "text/plain": [
       "11"
      ]
     },
     "execution_count": 22,
     "metadata": {},
     "output_type": "execute_result"
    }
   ],
   "source": [
    "print(df_keys)\n",
    "len(df_keys)"
   ]
  },
  {
   "cell_type": "code",
   "execution_count": 23,
   "metadata": {},
   "outputs": [
    {
     "name": "stdout",
     "output_type": "stream",
     "text": [
      "       gsr_mean  gsr_median  gsr_variance  gsr_skewness  gsr_kurtosis\n",
      "0      1.355378    1.332223      0.000256      0.699293     -0.627312\n",
      "1      1.339162    1.318903      0.000125     -0.100332     -1.238669\n",
      "2      1.326166    1.306471      0.000135      0.010484     -1.243451\n",
      "3      1.313587    1.294483      0.000113      0.140383     -1.149240\n",
      "4      1.302077    1.286491      0.000085      0.139074     -1.145452\n",
      "...         ...         ...           ...           ...           ...\n",
      "10286  1.873922    1.857143      0.000018      1.241958      5.575090\n",
      "10287  1.872439    1.838095      0.000022      0.428993      5.263945\n",
      "10288  1.869794    1.838095      0.000021      0.490440      4.582487\n",
      "10289  1.866879    1.838095      0.000020      0.256191      3.974350\n",
      "10290  1.865581    1.842491      0.000017      0.676028      4.517975\n",
      "\n",
      "[10291 rows x 5 columns]\n",
      "0        (0,0)\n",
      "1        (0,0)\n",
      "2        (0,0)\n",
      "3        (0,0)\n",
      "4        (0,0)\n",
      "         ...  \n",
      "10286    (2,3)\n",
      "10287    (2,3)\n",
      "10288    (2,3)\n",
      "10289    (2,3)\n",
      "10290    (2,3)\n",
      "Name: Act, Length: 10291, dtype: object\n"
     ]
    }
   ],
   "source": [
    "# Data Preprocessing\n",
    "df = df_feat.copy()\n",
    "df = df.dropna()\n",
    "\n",
    "Xs = df[df_keys[5:10]]\n",
    "y = df['Act']\n",
    "\n",
    "print(Xs)\n",
    "print(y)"
   ]
  },
  {
   "cell_type": "code",
   "execution_count": 24,
   "metadata": {},
   "outputs": [],
   "source": [
    "# This is the data split\n",
    "\n",
    "X_train, X_test, y_train, y_test = train_test_split(Xs, y, test_size=0.2, random_state=1)\n"
   ]
  },
  {
   "cell_type": "code",
   "execution_count": 25,
   "metadata": {},
   "outputs": [
    {
     "data": {
      "text/plain": [
       "DecisionTreeClassifier(class_weight=None, criterion='gini', max_depth=None,\n",
       "                       max_features=None, max_leaf_nodes=None,\n",
       "                       min_impurity_decrease=0.0, min_impurity_split=None,\n",
       "                       min_samples_leaf=1, min_samples_split=2,\n",
       "                       min_weight_fraction_leaf=0.0, presort=False,\n",
       "                       random_state=None, splitter='best')"
      ]
     },
     "execution_count": 25,
     "metadata": {},
     "output_type": "execute_result"
    }
   ],
   "source": [
    "\n",
    "# ---- Decision Tree -----------\n",
    "from sklearn import tree\n",
    "\n",
    "dt = tree.DecisionTreeClassifier()\n",
    "dt.fit(X_train, y_train)"
   ]
  },
  {
   "cell_type": "code",
   "execution_count": 26,
   "metadata": {},
   "outputs": [],
   "source": [
    "y_pred = dt.predict(X_test)"
   ]
  },
  {
   "cell_type": "code",
   "execution_count": 27,
   "metadata": {},
   "outputs": [
    {
     "name": "stdout",
     "output_type": "stream",
     "text": [
      "[[ 30   5   0   3   0   6   2   4   0   0   3   1]\n",
      " [  6 126  22  22   1   6   6   9   2   9   9   7]\n",
      " [  2  23 151  11   0   6   5   6   0   8   8   7]\n",
      " [  1  13  14 111   5   5   9  13   0   7  14   6]\n",
      " [  0   2   0   9   7   1   2   5   0   2   1   5]\n",
      " [  1   2   8   5   1  91  15  18   2   5  11  10]\n",
      " [  2   4   1   9   5  18 182  11   2  12  42  32]\n",
      " [  4  10   7   4   3  19  14 103   2  11  13  16]\n",
      " [  0   3   0   1   1   2   6   6   6   4   5   9]\n",
      " [  2   5   3   5   1  11   9  11   6  53  28   7]\n",
      " [  1   2   6   9   1   7  55   9   3  22 131  29]\n",
      " [  2   5   2   3   4   7  15  14   3  19  26  67]]\n",
      "0.5138416707139388\n"
     ]
    }
   ],
   "source": [
    "from sklearn.metrics import confusion_matrix, accuracy_score\n",
    "\n",
    "print(confusion_matrix(y_test, y_pred))\n",
    "print(accuracy_score(y_test, y_pred))"
   ]
  },
  {
   "cell_type": "code",
   "execution_count": 28,
   "metadata": {},
   "outputs": [],
   "source": [
    "df_video = df.loc[(df.Act == \"(0,0)\") | (df.Act == \"(0,1)\") | (df.Act == \"(0,2)\") | (df.Act == \"(0,3)\")]\n",
    "df_noeval = df.loc[(df.Act == \"(1,0)\") | (df.Act == \"(1,1)\") | (df.Act == \"(1,2)\") | (df.Act == \"(1,3)\")]\n",
    "df_eval = df.loc[(df.Act == \"(2,0)\") | (df.Act == \"(2,1)\") | (df.Act == \"(2,2)\") | (df.Act == \"(2,3)\")]"
   ]
  },
  {
   "cell_type": "code",
   "execution_count": 29,
   "metadata": {},
   "outputs": [],
   "source": [
    "def DT(x):\n",
    "    df = x.copy()\n",
    "    df = df.dropna()\n",
    "\n",
    "    Xs = df[df_keys[5:10]]\n",
    "    y = df['Act']\n",
    "    \n",
    "    X_train, X_test, y_train, y_test = train_test_split(Xs, y, test_size=0.2, random_state=10)\n",
    "    \n",
    "    dt = tree.DecisionTreeClassifier()\n",
    "    dt.fit(X_train, y_train)\n",
    "\n",
    "    y_pred = dt.predict(X_test)\n",
    "\n",
    "    print(confusion_matrix(y_test, y_pred))\n",
    "    print(accuracy_score(y_test, y_pred))"
   ]
  },
  {
   "cell_type": "code",
   "execution_count": 30,
   "metadata": {},
   "outputs": [
    {
     "name": "stdout",
     "output_type": "stream",
     "text": [
      "[[ 51   5  10   3]\n",
      " [  8 148  27  24]\n",
      " [  1  24 176  19]\n",
      " [  4  23  16 142]]\n",
      "0.7591776798825257\n"
     ]
    }
   ],
   "source": [
    "DT(df_video)"
   ]
  },
  {
   "cell_type": "code",
   "execution_count": 31,
   "metadata": {},
   "outputs": [
    {
     "name": "stdout",
     "output_type": "stream",
     "text": [
      "[[ 23  10   8   2]\n",
      " [  2 139  28  33]\n",
      " [  6  12 230  45]\n",
      " [  3  17  35 142]]\n",
      "0.726530612244898\n"
     ]
    }
   ],
   "source": [
    "DT(df_noeval)"
   ]
  },
  {
   "cell_type": "code",
   "execution_count": 32,
   "metadata": {},
   "outputs": [
    {
     "name": "stdout",
     "output_type": "stream",
     "text": [
      "[[ 10   7  12   6]\n",
      " [ 12  91  34  32]\n",
      " [ 14  41 173  51]\n",
      " [  4  18  40  99]]\n",
      "0.5791925465838509\n"
     ]
    }
   ],
   "source": [
    "DT(df_eval)"
   ]
  },
  {
   "cell_type": "code",
   "execution_count": null,
   "metadata": {},
   "outputs": [],
   "source": []
  }
 ],
 "metadata": {
  "kernelspec": {
   "display_name": "Python 3",
   "language": "python",
   "name": "python3"
  },
  "language_info": {
   "codemirror_mode": {
    "name": "ipython",
    "version": 3
   },
   "file_extension": ".py",
   "mimetype": "text/x-python",
   "name": "python",
   "nbconvert_exporter": "python",
   "pygments_lexer": "ipython3",
   "version": "3.7.4"
  }
 },
 "nbformat": 4,
 "nbformat_minor": 2
}
