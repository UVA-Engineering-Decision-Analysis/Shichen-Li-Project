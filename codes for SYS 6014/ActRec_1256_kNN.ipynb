{
 "cells": [
  {
   "cell_type": "code",
   "execution_count": 21,
   "metadata": {},
   "outputs": [],
   "source": [
    "\n",
    "import time\n",
    "import os\n",
    "import shutil\n",
    "import pandas as pd\n",
    "from datetime import datetime\n",
    "from dateutil import tz\n",
    "import warnings\n",
    "import itertools\n",
    "\n",
    "import math\n",
    "import matplotlib.pyplot as plt\n",
    "import numpy as np\n",
    "from sklearn import datasets, linear_model\n",
    "from sklearn.metrics import mean_squared_error, r2_score\n",
    "from sklearn.model_selection import train_test_split\n",
    "\n"
   ]
  },
  {
   "cell_type": "code",
   "execution_count": 2,
   "metadata": {},
   "outputs": [
    {
     "name": "stdout",
     "output_type": "stream",
     "text": [
      "Importing Data Now\n"
     ]
    }
   ],
   "source": [
    "# Remove the NaN rows and columns\n",
    "\n",
    "def removeNaN(curr_feat_1, curr_feat_2):\n",
    "    curr_feat_1_nan = np.array([])  # numpy.float64\n",
    "    curr_feat_2_nan = np.array([])  # numpy.float64\n",
    "    posi = 0\n",
    "    # *** Check for and remove the Nan rows in from ONLY [curr_feat_2] feature rows\n",
    "    for posi in range(len(curr_feat_2)):\n",
    "        if not (math.isnan(curr_feat_2[posi])):# and not(math.isnan(curr_feat_1[posi]))):\n",
    "            curr_feat_1_nan = np.append(curr_feat_1_nan, curr_feat_1[posi])\n",
    "            curr_feat_2_nan = np.append(curr_feat_2_nan, curr_feat_2[posi])\n",
    "            if (posi < 10):\n",
    "                print(curr_feat_2_nan[posi])\n",
    "        if (math.isnan(curr_feat_1[posi])):\n",
    "            # curr_feat_1_nan = np.append(curr_feat_1_nan, curr_feat_1[posi])\n",
    "            # curr_feat_2_nan = np.append(curr_feat_2_nan, curr_feat_2[posi])\n",
    "            if (posi < 10):\n",
    "                print(curr_feat_2_nan[posi])\n",
    "    return curr_feat_1_nan, curr_feat_2_nan\n",
    "\n",
    "#### Import .csv dataset into pandas\n",
    "print('Importing Data Now')\n",
    "\n",
    "#filename = '/Users/Mandala/PycharmProjects/ML_Project/windowing_results.csv'\n",
    "filename = 'actrec_windowing_1&2&5&6.csv'\n",
    "\n",
    "# Read data from csv file \n",
    "df_feat = pd.read_csv(filename)\n",
    "df_keys = df_feat.keys()\n",
    "\n"
   ]
  },
  {
   "cell_type": "code",
   "execution_count": 3,
   "metadata": {},
   "outputs": [
    {
     "data": {
      "text/html": [
       "<div>\n",
       "<style scoped>\n",
       "    .dataframe tbody tr th:only-of-type {\n",
       "        vertical-align: middle;\n",
       "    }\n",
       "\n",
       "    .dataframe tbody tr th {\n",
       "        vertical-align: top;\n",
       "    }\n",
       "\n",
       "    .dataframe thead th {\n",
       "        text-align: right;\n",
       "    }\n",
       "</style>\n",
       "<table border=\"1\" class=\"dataframe\">\n",
       "  <thead>\n",
       "    <tr style=\"text-align: right;\">\n",
       "      <th></th>\n",
       "      <th>Unnamed: 0</th>\n",
       "      <th>ECG #</th>\n",
       "      <th>start_time</th>\n",
       "      <th>end_time</th>\n",
       "      <th>acc_mean</th>\n",
       "      <th>acc_std</th>\n",
       "      <th>acc_50%</th>\n",
       "      <th>acc_eng</th>\n",
       "      <th>acc_var</th>\n",
       "      <th>acc_skew</th>\n",
       "      <th>acc_kurt</th>\n",
       "      <th>gyro_mean</th>\n",
       "      <th>gyro_std</th>\n",
       "      <th>gyro_50%</th>\n",
       "      <th>gyro_eng</th>\n",
       "      <th>gyro_var</th>\n",
       "      <th>gyro_skew</th>\n",
       "      <th>gyro_kurt</th>\n",
       "      <th>Activity</th>\n",
       "    </tr>\n",
       "  </thead>\n",
       "  <tbody>\n",
       "    <tr>\n",
       "      <td>0</td>\n",
       "      <td>svm</td>\n",
       "      <td>1</td>\n",
       "      <td>2019-11-21 09:35:27</td>\n",
       "      <td>2019-11-21 09:35:29</td>\n",
       "      <td>1.488039</td>\n",
       "      <td>0.008815</td>\n",
       "      <td>1.487741</td>\n",
       "      <td>5028.758152</td>\n",
       "      <td>0.000078</td>\n",
       "      <td>0.084834</td>\n",
       "      <td>-0.531150</td>\n",
       "      <td>0.934210</td>\n",
       "      <td>0.451446</td>\n",
       "      <td>0.892834</td>\n",
       "      <td>2444.644866</td>\n",
       "      <td>0.203803</td>\n",
       "      <td>0.492299</td>\n",
       "      <td>0.014721</td>\n",
       "      <td>(0,0)</td>\n",
       "    </tr>\n",
       "    <tr>\n",
       "      <td>1</td>\n",
       "      <td>svm</td>\n",
       "      <td>1</td>\n",
       "      <td>2019-11-21 09:35:28</td>\n",
       "      <td>2019-11-21 09:35:30</td>\n",
       "      <td>1.487708</td>\n",
       "      <td>0.008177</td>\n",
       "      <td>1.487741</td>\n",
       "      <td>5061.915525</td>\n",
       "      <td>0.000067</td>\n",
       "      <td>-0.074702</td>\n",
       "      <td>-0.411535</td>\n",
       "      <td>0.869209</td>\n",
       "      <td>0.456088</td>\n",
       "      <td>0.779196</td>\n",
       "      <td>2203.410455</td>\n",
       "      <td>0.208016</td>\n",
       "      <td>0.772472</td>\n",
       "      <td>0.362000</td>\n",
       "      <td>(0,0)</td>\n",
       "    </tr>\n",
       "    <tr>\n",
       "      <td>2</td>\n",
       "      <td>svm</td>\n",
       "      <td>1</td>\n",
       "      <td>2019-11-21 09:35:29</td>\n",
       "      <td>2019-11-21 09:35:31</td>\n",
       "      <td>1.484074</td>\n",
       "      <td>0.007623</td>\n",
       "      <td>1.482889</td>\n",
       "      <td>5039.399575</td>\n",
       "      <td>0.000058</td>\n",
       "      <td>0.406782</td>\n",
       "      <td>-0.166754</td>\n",
       "      <td>0.824283</td>\n",
       "      <td>0.497646</td>\n",
       "      <td>0.697942</td>\n",
       "      <td>2120.945536</td>\n",
       "      <td>0.247652</td>\n",
       "      <td>1.072809</td>\n",
       "      <td>0.951265</td>\n",
       "      <td>(0,0)</td>\n",
       "    </tr>\n",
       "    <tr>\n",
       "      <td>3</td>\n",
       "      <td>svm</td>\n",
       "      <td>1</td>\n",
       "      <td>2019-11-21 09:35:30</td>\n",
       "      <td>2019-11-21 09:35:32</td>\n",
       "      <td>1.487552</td>\n",
       "      <td>0.007213</td>\n",
       "      <td>1.488377</td>\n",
       "      <td>5076.308247</td>\n",
       "      <td>0.000052</td>\n",
       "      <td>-0.003496</td>\n",
       "      <td>-0.236324</td>\n",
       "      <td>0.843949</td>\n",
       "      <td>0.560521</td>\n",
       "      <td>0.673428</td>\n",
       "      <td>2354.323033</td>\n",
       "      <td>0.314183</td>\n",
       "      <td>1.283556</td>\n",
       "      <td>1.183364</td>\n",
       "      <td>(0,0)</td>\n",
       "    </tr>\n",
       "    <tr>\n",
       "      <td>4</td>\n",
       "      <td>svm</td>\n",
       "      <td>1</td>\n",
       "      <td>2019-11-21 09:35:31</td>\n",
       "      <td>2019-11-21 09:35:33</td>\n",
       "      <td>1.486918</td>\n",
       "      <td>0.006790</td>\n",
       "      <td>1.488377</td>\n",
       "      <td>5047.650638</td>\n",
       "      <td>0.000046</td>\n",
       "      <td>-0.031493</td>\n",
       "      <td>-0.088531</td>\n",
       "      <td>1.035346</td>\n",
       "      <td>0.672304</td>\n",
       "      <td>0.849516</td>\n",
       "      <td>3478.688197</td>\n",
       "      <td>0.451992</td>\n",
       "      <td>1.079871</td>\n",
       "      <td>0.786448</td>\n",
       "      <td>(0,0)</td>\n",
       "    </tr>\n",
       "    <tr>\n",
       "      <td>...</td>\n",
       "      <td>...</td>\n",
       "      <td>...</td>\n",
       "      <td>...</td>\n",
       "      <td>...</td>\n",
       "      <td>...</td>\n",
       "      <td>...</td>\n",
       "      <td>...</td>\n",
       "      <td>...</td>\n",
       "      <td>...</td>\n",
       "      <td>...</td>\n",
       "      <td>...</td>\n",
       "      <td>...</td>\n",
       "      <td>...</td>\n",
       "      <td>...</td>\n",
       "      <td>...</td>\n",
       "      <td>...</td>\n",
       "      <td>...</td>\n",
       "      <td>...</td>\n",
       "      <td>...</td>\n",
       "    </tr>\n",
       "    <tr>\n",
       "      <td>10286</td>\n",
       "      <td>svm</td>\n",
       "      <td>6</td>\n",
       "      <td>2019-11-21 11:00:35</td>\n",
       "      <td>2019-11-21 11:00:37</td>\n",
       "      <td>1.601729</td>\n",
       "      <td>0.088580</td>\n",
       "      <td>1.566651</td>\n",
       "      <td>5370.640005</td>\n",
       "      <td>0.007846</td>\n",
       "      <td>0.901604</td>\n",
       "      <td>-0.614297</td>\n",
       "      <td>3.035541</td>\n",
       "      <td>1.779093</td>\n",
       "      <td>2.628791</td>\n",
       "      <td>25833.234557</td>\n",
       "      <td>3.165173</td>\n",
       "      <td>1.786256</td>\n",
       "      <td>4.765928</td>\n",
       "      <td>(2,3)</td>\n",
       "    </tr>\n",
       "    <tr>\n",
       "      <td>10287</td>\n",
       "      <td>svm</td>\n",
       "      <td>6</td>\n",
       "      <td>2019-11-21 11:00:36</td>\n",
       "      <td>2019-11-21 11:00:38</td>\n",
       "      <td>1.584692</td>\n",
       "      <td>0.055840</td>\n",
       "      <td>1.579270</td>\n",
       "      <td>5725.213374</td>\n",
       "      <td>0.003118</td>\n",
       "      <td>0.364050</td>\n",
       "      <td>-1.093746</td>\n",
       "      <td>3.232552</td>\n",
       "      <td>1.729938</td>\n",
       "      <td>2.962076</td>\n",
       "      <td>30604.610546</td>\n",
       "      <td>2.992684</td>\n",
       "      <td>1.558248</td>\n",
       "      <td>4.272371</td>\n",
       "      <td>(2,3)</td>\n",
       "    </tr>\n",
       "    <tr>\n",
       "      <td>10288</td>\n",
       "      <td>svm</td>\n",
       "      <td>6</td>\n",
       "      <td>2019-11-21 11:00:37</td>\n",
       "      <td>2019-11-21 11:00:39</td>\n",
       "      <td>1.634041</td>\n",
       "      <td>0.070983</td>\n",
       "      <td>1.651781</td>\n",
       "      <td>6096.616139</td>\n",
       "      <td>0.005039</td>\n",
       "      <td>-0.378410</td>\n",
       "      <td>-1.316773</td>\n",
       "      <td>3.443357</td>\n",
       "      <td>1.621118</td>\n",
       "      <td>3.164181</td>\n",
       "      <td>33008.076912</td>\n",
       "      <td>2.628023</td>\n",
       "      <td>1.724908</td>\n",
       "      <td>5.127654</td>\n",
       "      <td>(2,3)</td>\n",
       "    </tr>\n",
       "    <tr>\n",
       "      <td>10289</td>\n",
       "      <td>svm</td>\n",
       "      <td>6</td>\n",
       "      <td>2019-11-21 11:00:38</td>\n",
       "      <td>2019-11-21 11:00:40</td>\n",
       "      <td>1.701175</td>\n",
       "      <td>0.045277</td>\n",
       "      <td>1.706349</td>\n",
       "      <td>6591.398275</td>\n",
       "      <td>0.002050</td>\n",
       "      <td>-0.495898</td>\n",
       "      <td>-0.477644</td>\n",
       "      <td>3.277129</td>\n",
       "      <td>1.543004</td>\n",
       "      <td>3.049675</td>\n",
       "      <td>29859.735732</td>\n",
       "      <td>2.380862</td>\n",
       "      <td>1.807932</td>\n",
       "      <td>6.491142</td>\n",
       "      <td>(2,3)</td>\n",
       "    </tr>\n",
       "    <tr>\n",
       "      <td>10290</td>\n",
       "      <td>svm</td>\n",
       "      <td>6</td>\n",
       "      <td>2019-11-21 11:00:39</td>\n",
       "      <td>2019-11-21 11:00:41</td>\n",
       "      <td>1.727280</td>\n",
       "      <td>0.024522</td>\n",
       "      <td>1.721291</td>\n",
       "      <td>4529.858341</td>\n",
       "      <td>0.000601</td>\n",
       "      <td>0.370031</td>\n",
       "      <td>-0.941272</td>\n",
       "      <td>3.333089</td>\n",
       "      <td>1.666079</td>\n",
       "      <td>3.011691</td>\n",
       "      <td>21075.108897</td>\n",
       "      <td>2.775818</td>\n",
       "      <td>2.050351</td>\n",
       "      <td>6.801323</td>\n",
       "      <td>(2,3)</td>\n",
       "    </tr>\n",
       "  </tbody>\n",
       "</table>\n",
       "<p>10291 rows × 19 columns</p>\n",
       "</div>"
      ],
      "text/plain": [
       "      Unnamed: 0  ECG #           start_time             end_time  acc_mean  \\\n",
       "0            svm      1  2019-11-21 09:35:27  2019-11-21 09:35:29  1.488039   \n",
       "1            svm      1  2019-11-21 09:35:28  2019-11-21 09:35:30  1.487708   \n",
       "2            svm      1  2019-11-21 09:35:29  2019-11-21 09:35:31  1.484074   \n",
       "3            svm      1  2019-11-21 09:35:30  2019-11-21 09:35:32  1.487552   \n",
       "4            svm      1  2019-11-21 09:35:31  2019-11-21 09:35:33  1.486918   \n",
       "...          ...    ...                  ...                  ...       ...   \n",
       "10286        svm      6  2019-11-21 11:00:35  2019-11-21 11:00:37  1.601729   \n",
       "10287        svm      6  2019-11-21 11:00:36  2019-11-21 11:00:38  1.584692   \n",
       "10288        svm      6  2019-11-21 11:00:37  2019-11-21 11:00:39  1.634041   \n",
       "10289        svm      6  2019-11-21 11:00:38  2019-11-21 11:00:40  1.701175   \n",
       "10290        svm      6  2019-11-21 11:00:39  2019-11-21 11:00:41  1.727280   \n",
       "\n",
       "        acc_std   acc_50%      acc_eng   acc_var  acc_skew  acc_kurt  \\\n",
       "0      0.008815  1.487741  5028.758152  0.000078  0.084834 -0.531150   \n",
       "1      0.008177  1.487741  5061.915525  0.000067 -0.074702 -0.411535   \n",
       "2      0.007623  1.482889  5039.399575  0.000058  0.406782 -0.166754   \n",
       "3      0.007213  1.488377  5076.308247  0.000052 -0.003496 -0.236324   \n",
       "4      0.006790  1.488377  5047.650638  0.000046 -0.031493 -0.088531   \n",
       "...         ...       ...          ...       ...       ...       ...   \n",
       "10286  0.088580  1.566651  5370.640005  0.007846  0.901604 -0.614297   \n",
       "10287  0.055840  1.579270  5725.213374  0.003118  0.364050 -1.093746   \n",
       "10288  0.070983  1.651781  6096.616139  0.005039 -0.378410 -1.316773   \n",
       "10289  0.045277  1.706349  6591.398275  0.002050 -0.495898 -0.477644   \n",
       "10290  0.024522  1.721291  4529.858341  0.000601  0.370031 -0.941272   \n",
       "\n",
       "       gyro_mean  gyro_std  gyro_50%      gyro_eng  gyro_var  gyro_skew  \\\n",
       "0       0.934210  0.451446  0.892834   2444.644866  0.203803   0.492299   \n",
       "1       0.869209  0.456088  0.779196   2203.410455  0.208016   0.772472   \n",
       "2       0.824283  0.497646  0.697942   2120.945536  0.247652   1.072809   \n",
       "3       0.843949  0.560521  0.673428   2354.323033  0.314183   1.283556   \n",
       "4       1.035346  0.672304  0.849516   3478.688197  0.451992   1.079871   \n",
       "...          ...       ...       ...           ...       ...        ...   \n",
       "10286   3.035541  1.779093  2.628791  25833.234557  3.165173   1.786256   \n",
       "10287   3.232552  1.729938  2.962076  30604.610546  2.992684   1.558248   \n",
       "10288   3.443357  1.621118  3.164181  33008.076912  2.628023   1.724908   \n",
       "10289   3.277129  1.543004  3.049675  29859.735732  2.380862   1.807932   \n",
       "10290   3.333089  1.666079  3.011691  21075.108897  2.775818   2.050351   \n",
       "\n",
       "       gyro_kurt Activity  \n",
       "0       0.014721    (0,0)  \n",
       "1       0.362000    (0,0)  \n",
       "2       0.951265    (0,0)  \n",
       "3       1.183364    (0,0)  \n",
       "4       0.786448    (0,0)  \n",
       "...          ...      ...  \n",
       "10286   4.765928    (2,3)  \n",
       "10287   4.272371    (2,3)  \n",
       "10288   5.127654    (2,3)  \n",
       "10289   6.491142    (2,3)  \n",
       "10290   6.801323    (2,3)  \n",
       "\n",
       "[10291 rows x 19 columns]"
      ]
     },
     "execution_count": 3,
     "metadata": {},
     "output_type": "execute_result"
    }
   ],
   "source": [
    "df_feat"
   ]
  },
  {
   "cell_type": "code",
   "execution_count": 4,
   "metadata": {},
   "outputs": [
    {
     "name": "stdout",
     "output_type": "stream",
     "text": [
      "Index(['Unnamed: 0', 'ECG #', 'start_time', 'end_time', 'acc_mean', 'acc_std',\n",
      "       'acc_50%', 'acc_eng', 'acc_var', 'acc_skew', 'acc_kurt', 'gyro_mean',\n",
      "       'gyro_std', 'gyro_50%', 'gyro_eng', 'gyro_var', 'gyro_skew',\n",
      "       'gyro_kurt', 'Activity'],\n",
      "      dtype='object')\n"
     ]
    },
    {
     "data": {
      "text/plain": [
       "19"
      ]
     },
     "execution_count": 4,
     "metadata": {},
     "output_type": "execute_result"
    }
   ],
   "source": [
    "print(df_keys)\n",
    "len(df_keys)"
   ]
  },
  {
   "cell_type": "code",
   "execution_count": 5,
   "metadata": {},
   "outputs": [
    {
     "name": "stdout",
     "output_type": "stream",
     "text": [
      "       acc_mean   acc_std   acc_50%      acc_eng   acc_var  acc_skew  \\\n",
      "0      1.488039  0.008815  1.487741  5028.758152  0.000078  0.084834   \n",
      "1      1.487708  0.008177  1.487741  5061.915525  0.000067 -0.074702   \n",
      "2      1.484074  0.007623  1.482889  5039.399575  0.000058  0.406782   \n",
      "3      1.487552  0.007213  1.488377  5076.308247  0.000052 -0.003496   \n",
      "4      1.486918  0.006790  1.488377  5047.650638  0.000046 -0.031493   \n",
      "...         ...       ...       ...          ...       ...       ...   \n",
      "10286  1.601729  0.088580  1.566651  5370.640005  0.007846  0.901604   \n",
      "10287  1.584692  0.055840  1.579270  5725.213374  0.003118  0.364050   \n",
      "10288  1.634041  0.070983  1.651781  6096.616139  0.005039 -0.378410   \n",
      "10289  1.701175  0.045277  1.706349  6591.398275  0.002050 -0.495898   \n",
      "10290  1.727280  0.024522  1.721291  4529.858341  0.000601  0.370031   \n",
      "\n",
      "       acc_kurt  gyro_mean  gyro_std  gyro_50%      gyro_eng  gyro_var  \\\n",
      "0     -0.531150   0.934210  0.451446  0.892834   2444.644866  0.203803   \n",
      "1     -0.411535   0.869209  0.456088  0.779196   2203.410455  0.208016   \n",
      "2     -0.166754   0.824283  0.497646  0.697942   2120.945536  0.247652   \n",
      "3     -0.236324   0.843949  0.560521  0.673428   2354.323033  0.314183   \n",
      "4     -0.088531   1.035346  0.672304  0.849516   3478.688197  0.451992   \n",
      "...         ...        ...       ...       ...           ...       ...   \n",
      "10286 -0.614297   3.035541  1.779093  2.628791  25833.234557  3.165173   \n",
      "10287 -1.093746   3.232552  1.729938  2.962076  30604.610546  2.992684   \n",
      "10288 -1.316773   3.443357  1.621118  3.164181  33008.076912  2.628023   \n",
      "10289 -0.477644   3.277129  1.543004  3.049675  29859.735732  2.380862   \n",
      "10290 -0.941272   3.333089  1.666079  3.011691  21075.108897  2.775818   \n",
      "\n",
      "       gyro_skew  gyro_kurt  \n",
      "0       0.492299   0.014721  \n",
      "1       0.772472   0.362000  \n",
      "2       1.072809   0.951265  \n",
      "3       1.283556   1.183364  \n",
      "4       1.079871   0.786448  \n",
      "...          ...        ...  \n",
      "10286   1.786256   4.765928  \n",
      "10287   1.558248   4.272371  \n",
      "10288   1.724908   5.127654  \n",
      "10289   1.807932   6.491142  \n",
      "10290   2.050351   6.801323  \n",
      "\n",
      "[10291 rows x 14 columns]\n",
      "0        (0,0)\n",
      "1        (0,0)\n",
      "2        (0,0)\n",
      "3        (0,0)\n",
      "4        (0,0)\n",
      "         ...  \n",
      "10286    (2,3)\n",
      "10287    (2,3)\n",
      "10288    (2,3)\n",
      "10289    (2,3)\n",
      "10290    (2,3)\n",
      "Name: Activity, Length: 10291, dtype: object\n"
     ]
    }
   ],
   "source": [
    "# Data Preprocessing\n",
    "df = df_feat.copy()\n",
    "df = df.dropna()\n",
    "\n",
    "Xs = df[df_keys[4:18]]\n",
    "y = df['Activity']\n",
    "\n",
    "print(Xs)\n",
    "print(y)"
   ]
  },
  {
   "cell_type": "code",
   "execution_count": 6,
   "metadata": {},
   "outputs": [
    {
     "data": {
      "text/plain": [
       "KNeighborsClassifier(algorithm='auto', leaf_size=30, metric='minkowski',\n",
       "                     metric_params=None, n_jobs=None, n_neighbors=7, p=2,\n",
       "                     weights='uniform')"
      ]
     },
     "execution_count": 6,
     "metadata": {},
     "output_type": "execute_result"
    }
   ],
   "source": [
    "# This is the data split\n",
    "\n",
    "X_train, X_test, y_train, y_test = train_test_split(Xs, y, test_size=0.2, random_state=10)\n",
    "\n",
    "# Training the model\n",
    "from sklearn.neighbors import KNeighborsClassifier\n",
    "classifier = KNeighborsClassifier(n_neighbors=7)\n",
    "classifier.fit(X_train, y_train)"
   ]
  },
  {
   "cell_type": "code",
   "execution_count": 7,
   "metadata": {},
   "outputs": [
    {
     "name": "stdout",
     "output_type": "stream",
     "text": [
      "['(0,0)' '(2,2)' '(0,2)' ... '(2,2)' '(1,1)' '(0,1)']\n"
     ]
    }
   ],
   "source": [
    "y_pred = classifier.predict(X_test)\n",
    "print(y_pred)"
   ]
  },
  {
   "cell_type": "code",
   "execution_count": 8,
   "metadata": {},
   "outputs": [
    {
     "data": {
      "text/plain": [
       "2059"
      ]
     },
     "execution_count": 8,
     "metadata": {},
     "output_type": "execute_result"
    }
   ],
   "source": [
    "len(y_pred)"
   ]
  },
  {
   "cell_type": "code",
   "execution_count": 9,
   "metadata": {},
   "outputs": [
    {
     "data": {
      "text/plain": [
       "2059"
      ]
     },
     "execution_count": 9,
     "metadata": {},
     "output_type": "execute_result"
    }
   ],
   "source": [
    "len(y_test)"
   ]
  },
  {
   "cell_type": "code",
   "execution_count": 10,
   "metadata": {},
   "outputs": [
    {
     "name": "stdout",
     "output_type": "stream",
     "text": [
      "[[ 35   0   2   0   0   9   4   1   0   0   2   1]\n",
      " [  7 109   8  15   0  12  20  18   3   4  17   5]\n",
      " [  2  13 137  11   0   9  18  12   0   6   6   9]\n",
      " [  4  25  20  73   1   8  15  14   1   4  11   2]\n",
      " [  3   0   2   3  19   2   5   3   0   3   3   1]\n",
      " [  5  15  26   5   0  70  26   8   0  10  17   9]\n",
      " [  0  32  26   9   1  30 163  19   1   6  16   5]\n",
      " [  4  26  16   4   1  16  24  72   3   4  10   7]\n",
      " [  4   4   0   3   1   1  13   3   7   0   5   3]\n",
      " [  3   5  23   9   3  12  20   6   0  43  27   3]\n",
      " [  3  30   9  14   1   5  44  21   1  11 137   9]\n",
      " [  3  14  21  11   0  15  24   5   2   7   5  66]]\n",
      "              precision    recall  f1-score   support\n",
      "\n",
      "       (0,0)       0.48      0.65      0.55        54\n",
      "       (0,1)       0.40      0.50      0.44       218\n",
      "       (0,2)       0.47      0.61      0.53       223\n",
      "       (0,3)       0.46      0.41      0.44       178\n",
      "       (1,0)       0.70      0.43      0.54        44\n",
      "       (1,1)       0.37      0.37      0.37       191\n",
      "       (1,2)       0.43      0.53      0.48       308\n",
      "       (1,3)       0.40      0.39      0.39       187\n",
      "       (2,0)       0.39      0.16      0.23        44\n",
      "       (2,1)       0.44      0.28      0.34       154\n",
      "       (2,2)       0.54      0.48      0.51       285\n",
      "       (2,3)       0.55      0.38      0.45       173\n",
      "\n",
      "    accuracy                           0.45      2059\n",
      "   macro avg       0.47      0.43      0.44      2059\n",
      "weighted avg       0.46      0.45      0.45      2059\n",
      "\n",
      "0.45216124332200097\n"
     ]
    }
   ],
   "source": [
    "from sklearn.metrics import classification_report, confusion_matrix,accuracy_score\n",
    "print(confusion_matrix(y_test, y_pred))\n",
    "print(classification_report(y_test, y_pred))\n",
    "print(accuracy_score(y_test,y_pred))"
   ]
  },
  {
   "cell_type": "code",
   "execution_count": 11,
   "metadata": {},
   "outputs": [],
   "source": [
    "accuracy = []\n",
    "\n",
    "# Calculating error for K values between 1 and 40\n",
    "for i in range(1, 40):\n",
    "    knn = KNeighborsClassifier(n_neighbors=i)\n",
    "    knn.fit(X_train, y_train)\n",
    "    y_pred = classifier.predict(X_test)\n",
    "    accuracy.append(accuracy_score(y_test,y_pred))"
   ]
  },
  {
   "cell_type": "code",
   "execution_count": 12,
   "metadata": {},
   "outputs": [
    {
     "data": {
      "text/plain": [
       "Text(0, 0.5, 'Accuracy')"
      ]
     },
     "execution_count": 12,
     "metadata": {},
     "output_type": "execute_result"
    },
    {
     "data": {
      "image/png": "[encoded data removed]",
      "text/plain": [
       "<Figure size 864x432 with 1 Axes>"
      ]
     },
     "metadata": {
      "needs_background": "light"
     },
     "output_type": "display_data"
    }
   ],
   "source": [
    "plt.figure(figsize=(12, 6))\n",
    "plt.plot(range(1, 40), accuracy, color='red', linestyle='dashed', marker='o',\n",
    "         markerfacecolor='blue', markersize=10)\n",
    "plt.title('Accuracy K Value')\n",
    "plt.xlabel('K Value')\n",
    "plt.ylabel('Accuracy')"
   ]
  },
  {
   "cell_type": "code",
   "execution_count": 14,
   "metadata": {},
   "outputs": [],
   "source": [
    "df_video = df.loc[(df.Activity == \"(0,0)\") | (df.Activity == \"(0,1)\") | (df.Activity == \"(0,2)\") | (df.Activity == \"(0,3)\")]"
   ]
  },
  {
   "cell_type": "code",
   "execution_count": 15,
   "metadata": {},
   "outputs": [],
   "source": [
    "df_noeval = df.loc[(df.Activity == \"(1,0)\") | (df.Activity == \"(1,1)\") | (df.Activity == \"(1,2)\") | (df.Activity == \"(1,3)\")]"
   ]
  },
  {
   "cell_type": "code",
   "execution_count": 16,
   "metadata": {},
   "outputs": [],
   "source": [
    "df_eval = df.loc[(df.Activity == \"(2,0)\") | (df.Activity == \"(2,1)\") | (df.Activity == \"(2,2)\") | (df.Activity == \"(2,3)\")]"
   ]
  },
  {
   "cell_type": "code",
   "execution_count": 17,
   "metadata": {},
   "outputs": [],
   "source": [
    "def kNN(x):\n",
    "    y = x.copy()\n",
    "    df = y.dropna()\n",
    "\n",
    "    Xs = df[df_keys[4:18]]\n",
    "    y = df['Activity']\n",
    "    \n",
    "    X_train, X_test, y_train, y_test = train_test_split(Xs, y, test_size=0.2, random_state=10)\n",
    "\n",
    "    from sklearn.neighbors import KNeighborsClassifier\n",
    "    classifier = KNeighborsClassifier(n_neighbors=7)\n",
    "    classifier.fit(X_train, y_train)\n",
    "    \n",
    "    y_pred = classifier.predict(X_test)\n",
    "    \n",
    "    from sklearn.metrics import classification_report, confusion_matrix,accuracy_score\n",
    "    print(confusion_matrix(y_test, y_pred))\n",
    "    print(classification_report(y_test, y_pred))\n",
    "    print(accuracy_score(y_test,y_pred))"
   ]
  },
  {
   "cell_type": "code",
   "execution_count": 18,
   "metadata": {},
   "outputs": [
    {
     "name": "stdout",
     "output_type": "stream",
     "text": [
      "[[ 47   9   9   4]\n",
      " [ 13 144  27  23]\n",
      " [  6  26 161  27]\n",
      " [  6  42  33 104]]\n",
      "              precision    recall  f1-score   support\n",
      "\n",
      "       (0,0)       0.65      0.68      0.67        69\n",
      "       (0,1)       0.65      0.70      0.67       207\n",
      "       (0,2)       0.70      0.73      0.72       220\n",
      "       (0,3)       0.66      0.56      0.61       185\n",
      "\n",
      "    accuracy                           0.67       681\n",
      "   macro avg       0.67      0.67      0.67       681\n",
      "weighted avg       0.67      0.67      0.67       681\n",
      "\n",
      "0.6696035242290749\n"
     ]
    }
   ],
   "source": [
    "kNN(df_video)"
   ]
  },
  {
   "cell_type": "code",
   "execution_count": 19,
   "metadata": {},
   "outputs": [
    {
     "name": "stdout",
     "output_type": "stream",
     "text": [
      "[[ 21   4  14   4]\n",
      " [  0 138  41  23]\n",
      " [  1  31 238  23]\n",
      " [  5  26  55 111]]\n",
      "              precision    recall  f1-score   support\n",
      "\n",
      "       (1,0)       0.78      0.49      0.60        43\n",
      "       (1,1)       0.69      0.68      0.69       202\n",
      "       (1,2)       0.68      0.81      0.74       293\n",
      "       (1,3)       0.69      0.56      0.62       197\n",
      "\n",
      "    accuracy                           0.69       735\n",
      "   macro avg       0.71      0.64      0.66       735\n",
      "weighted avg       0.69      0.69      0.69       735\n",
      "\n",
      "0.691156462585034\n"
     ]
    }
   ],
   "source": [
    "kNN(df_noeval)"
   ]
  },
  {
   "cell_type": "code",
   "execution_count": 20,
   "metadata": {},
   "outputs": [
    {
     "name": "stdout",
     "output_type": "stream",
     "text": [
      "[[ 18   0  14   3]\n",
      " [  1  95  56  17]\n",
      " [  4  24 228  23]\n",
      " [  1  11  50  99]]\n",
      "              precision    recall  f1-score   support\n",
      "\n",
      "       (2,0)       0.75      0.51      0.61        35\n",
      "       (2,1)       0.73      0.56      0.64       169\n",
      "       (2,2)       0.66      0.82      0.73       279\n",
      "       (2,3)       0.70      0.61      0.65       161\n",
      "\n",
      "    accuracy                           0.68       644\n",
      "   macro avg       0.71      0.63      0.66       644\n",
      "weighted avg       0.69      0.68      0.68       644\n",
      "\n",
      "0.6832298136645962\n"
     ]
    }
   ],
   "source": [
    "kNN(df_eval)"
   ]
  },
  {
   "cell_type": "code",
   "execution_count": null,
   "metadata": {},
   "outputs": [],
   "source": []
  }
 ],
 "metadata": {
  "kernelspec": {
   "display_name": "Python 3",
   "language": "python",
   "name": "python3"
  },
  "language_info": {
   "codemirror_mode": {
    "name": "ipython",
    "version": 3
   },
   "file_extension": ".py",
   "mimetype": "text/x-python",
   "name": "python",
   "nbconvert_exporter": "python",
   "pygments_lexer": "ipython3",
   "version": "3.7.4"
  }
 },
 "nbformat": 4,
 "nbformat_minor": 2
}
