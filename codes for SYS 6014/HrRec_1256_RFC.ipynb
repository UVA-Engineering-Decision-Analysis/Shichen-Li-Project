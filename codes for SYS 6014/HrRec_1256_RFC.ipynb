{
 "cells": [
  {
   "cell_type": "code",
   "execution_count": 1,
   "metadata": {},
   "outputs": [],
   "source": [
    "# CS 6316 ML Project: LASSO\n",
    "# Created on Wed Apr 29 22:23 2020 \n",
    "# @author: sl4bq\n",
    "\n",
    "import time\n",
    "import os\n",
    "import shutil\n",
    "import pandas as pd\n",
    "from datetime import datetime\n",
    "from dateutil import tz\n",
    "import warnings\n",
    "import itertools\n",
    "\n",
    "import math\n",
    "import matplotlib.pyplot as plt\n",
    "import numpy as np\n",
    "from sklearn import datasets, linear_model\n",
    "from sklearn.metrics import mean_squared_error, r2_score\n",
    "from sklearn.model_selection import train_test_split\n",
    "\n"
   ]
  },
  {
   "cell_type": "code",
   "execution_count": 3,
   "metadata": {},
   "outputs": [
    {
     "name": "stdout",
     "output_type": "stream",
     "text": [
      "Importing Data Now\n"
     ]
    }
   ],
   "source": [
    "# Remove the NaN rows and columns\n",
    "\n",
    "def removeNaN(curr_feat_1, curr_feat_2):\n",
    "    curr_feat_1_nan = np.array([])  # numpy.float64\n",
    "    curr_feat_2_nan = np.array([])  # numpy.float64\n",
    "    posi = 0\n",
    "    # *** Check for and remove the Nan rows in from ONLY [curr_feat_2] feature rows\n",
    "    for posi in range(len(curr_feat_2)):\n",
    "        if not (math.isnan(curr_feat_2[posi])):# and not(math.isnan(curr_feat_1[posi]))):\n",
    "            curr_feat_1_nan = np.append(curr_feat_1_nan, curr_feat_1[posi])\n",
    "            curr_feat_2_nan = np.append(curr_feat_2_nan, curr_feat_2[posi])\n",
    "            if (posi < 10):\n",
    "                print(curr_feat_2_nan[posi])\n",
    "        if (math.isnan(curr_feat_1[posi])):\n",
    "            # curr_feat_1_nan = np.append(curr_feat_1_nan, curr_feat_1[posi])\n",
    "            # curr_feat_2_nan = np.append(curr_feat_2_nan, curr_feat_2[posi])\n",
    "            if (posi < 10):\n",
    "                print(curr_feat_2_nan[posi])\n",
    "    return curr_feat_1_nan, curr_feat_2_nan\n",
    "\n",
    "#### Import .csv dataset into pandas\n",
    "print('Importing Data Now')\n",
    "\n",
    "#filename = '/Users/Mandala/PycharmProjects/ML_Project/windowing_results.csv'\n",
    "filename = 'heart_rate_new.csv'\n",
    "\n",
    "# Read data from csv file \n",
    "df_feat = pd.read_csv(filename)\n",
    "df_keys = df_feat.keys()\n",
    "\n"
   ]
  },
  {
   "cell_type": "code",
   "execution_count": 4,
   "metadata": {},
   "outputs": [
    {
     "data": {
      "text/html": [
       "<div>\n",
       "<style scoped>\n",
       "    .dataframe tbody tr th:only-of-type {\n",
       "        vertical-align: middle;\n",
       "    }\n",
       "\n",
       "    .dataframe tbody tr th {\n",
       "        vertical-align: top;\n",
       "    }\n",
       "\n",
       "    .dataframe thead th {\n",
       "        text-align: right;\n",
       "    }\n",
       "</style>\n",
       "<table border=\"1\" class=\"dataframe\">\n",
       "  <thead>\n",
       "    <tr style=\"text-align: right;\">\n",
       "      <th></th>\n",
       "      <th>Unnamed: 0</th>\n",
       "      <th>GSR #</th>\n",
       "      <th>start_time</th>\n",
       "      <th>end_time</th>\n",
       "      <th>hr_mean</th>\n",
       "      <th>hr_std</th>\n",
       "      <th>hr_50%</th>\n",
       "      <th>Activity</th>\n",
       "    </tr>\n",
       "  </thead>\n",
       "  <tbody>\n",
       "    <tr>\n",
       "      <td>0</td>\n",
       "      <td>Heart_rate</td>\n",
       "      <td>1</td>\n",
       "      <td>2019-11-21 09:35:27</td>\n",
       "      <td>2019-11-21 09:35:31</td>\n",
       "      <td>-1.0</td>\n",
       "      <td>0.0</td>\n",
       "      <td>-1.0</td>\n",
       "      <td>(0,0)</td>\n",
       "    </tr>\n",
       "    <tr>\n",
       "      <td>1</td>\n",
       "      <td>Heart_rate</td>\n",
       "      <td>1</td>\n",
       "      <td>2019-11-21 09:35:29</td>\n",
       "      <td>2019-11-21 09:35:33</td>\n",
       "      <td>-1.0</td>\n",
       "      <td>0.0</td>\n",
       "      <td>-1.0</td>\n",
       "      <td>(0,0)</td>\n",
       "    </tr>\n",
       "    <tr>\n",
       "      <td>2</td>\n",
       "      <td>Heart_rate</td>\n",
       "      <td>1</td>\n",
       "      <td>2019-11-21 09:35:31</td>\n",
       "      <td>2019-11-21 09:35:35</td>\n",
       "      <td>-1.0</td>\n",
       "      <td>0.0</td>\n",
       "      <td>-1.0</td>\n",
       "      <td>(0,0)</td>\n",
       "    </tr>\n",
       "    <tr>\n",
       "      <td>3</td>\n",
       "      <td>Heart_rate</td>\n",
       "      <td>1</td>\n",
       "      <td>2019-11-21 09:35:33</td>\n",
       "      <td>2019-11-21 09:35:37</td>\n",
       "      <td>-1.0</td>\n",
       "      <td>0.0</td>\n",
       "      <td>-1.0</td>\n",
       "      <td>(0,0)</td>\n",
       "    </tr>\n",
       "    <tr>\n",
       "      <td>4</td>\n",
       "      <td>Heart_rate</td>\n",
       "      <td>1</td>\n",
       "      <td>2019-11-21 09:35:35</td>\n",
       "      <td>2019-11-21 09:35:39</td>\n",
       "      <td>-1.0</td>\n",
       "      <td>0.0</td>\n",
       "      <td>-1.0</td>\n",
       "      <td>(0,0)</td>\n",
       "    </tr>\n",
       "    <tr>\n",
       "      <td>...</td>\n",
       "      <td>...</td>\n",
       "      <td>...</td>\n",
       "      <td>...</td>\n",
       "      <td>...</td>\n",
       "      <td>...</td>\n",
       "      <td>...</td>\n",
       "      <td>...</td>\n",
       "      <td>...</td>\n",
       "    </tr>\n",
       "    <tr>\n",
       "      <td>5100</td>\n",
       "      <td>Heart_rate</td>\n",
       "      <td>6</td>\n",
       "      <td>2019-11-21 11:00:28</td>\n",
       "      <td>2019-11-21 11:00:32</td>\n",
       "      <td>-1.0</td>\n",
       "      <td>0.0</td>\n",
       "      <td>-1.0</td>\n",
       "      <td>(2,3)</td>\n",
       "    </tr>\n",
       "    <tr>\n",
       "      <td>5101</td>\n",
       "      <td>Heart_rate</td>\n",
       "      <td>6</td>\n",
       "      <td>2019-11-21 11:00:30</td>\n",
       "      <td>2019-11-21 11:00:34</td>\n",
       "      <td>-1.0</td>\n",
       "      <td>0.0</td>\n",
       "      <td>-1.0</td>\n",
       "      <td>(2,3)</td>\n",
       "    </tr>\n",
       "    <tr>\n",
       "      <td>5102</td>\n",
       "      <td>Heart_rate</td>\n",
       "      <td>6</td>\n",
       "      <td>2019-11-21 11:00:32</td>\n",
       "      <td>2019-11-21 11:00:36</td>\n",
       "      <td>-1.0</td>\n",
       "      <td>0.0</td>\n",
       "      <td>-1.0</td>\n",
       "      <td>(2,3)</td>\n",
       "    </tr>\n",
       "    <tr>\n",
       "      <td>5103</td>\n",
       "      <td>Heart_rate</td>\n",
       "      <td>6</td>\n",
       "      <td>2019-11-21 11:00:34</td>\n",
       "      <td>2019-11-21 11:00:38</td>\n",
       "      <td>-1.0</td>\n",
       "      <td>0.0</td>\n",
       "      <td>-1.0</td>\n",
       "      <td>(2,3)</td>\n",
       "    </tr>\n",
       "    <tr>\n",
       "      <td>5104</td>\n",
       "      <td>Heart_rate</td>\n",
       "      <td>6</td>\n",
       "      <td>2019-11-21 11:00:36</td>\n",
       "      <td>2019-11-21 11:00:40</td>\n",
       "      <td>-1.0</td>\n",
       "      <td>0.0</td>\n",
       "      <td>-1.0</td>\n",
       "      <td>(2,3)</td>\n",
       "    </tr>\n",
       "  </tbody>\n",
       "</table>\n",
       "<p>5105 rows × 8 columns</p>\n",
       "</div>"
      ],
      "text/plain": [
       "      Unnamed: 0  GSR #           start_time             end_time  hr_mean  \\\n",
       "0     Heart_rate      1  2019-11-21 09:35:27  2019-11-21 09:35:31     -1.0   \n",
       "1     Heart_rate      1  2019-11-21 09:35:29  2019-11-21 09:35:33     -1.0   \n",
       "2     Heart_rate      1  2019-11-21 09:35:31  2019-11-21 09:35:35     -1.0   \n",
       "3     Heart_rate      1  2019-11-21 09:35:33  2019-11-21 09:35:37     -1.0   \n",
       "4     Heart_rate      1  2019-11-21 09:35:35  2019-11-21 09:35:39     -1.0   \n",
       "...          ...    ...                  ...                  ...      ...   \n",
       "5100  Heart_rate      6  2019-11-21 11:00:28  2019-11-21 11:00:32     -1.0   \n",
       "5101  Heart_rate      6  2019-11-21 11:00:30  2019-11-21 11:00:34     -1.0   \n",
       "5102  Heart_rate      6  2019-11-21 11:00:32  2019-11-21 11:00:36     -1.0   \n",
       "5103  Heart_rate      6  2019-11-21 11:00:34  2019-11-21 11:00:38     -1.0   \n",
       "5104  Heart_rate      6  2019-11-21 11:00:36  2019-11-21 11:00:40     -1.0   \n",
       "\n",
       "      hr_std  hr_50% Activity  \n",
       "0        0.0    -1.0    (0,0)  \n",
       "1        0.0    -1.0    (0,0)  \n",
       "2        0.0    -1.0    (0,0)  \n",
       "3        0.0    -1.0    (0,0)  \n",
       "4        0.0    -1.0    (0,0)  \n",
       "...      ...     ...      ...  \n",
       "5100     0.0    -1.0    (2,3)  \n",
       "5101     0.0    -1.0    (2,3)  \n",
       "5102     0.0    -1.0    (2,3)  \n",
       "5103     0.0    -1.0    (2,3)  \n",
       "5104     0.0    -1.0    (2,3)  \n",
       "\n",
       "[5105 rows x 8 columns]"
      ]
     },
     "execution_count": 4,
     "metadata": {},
     "output_type": "execute_result"
    }
   ],
   "source": [
    "df_feat"
   ]
  },
  {
   "cell_type": "code",
   "execution_count": 5,
   "metadata": {},
   "outputs": [
    {
     "name": "stdout",
     "output_type": "stream",
     "text": [
      "Index(['Unnamed: 0', 'GSR #', 'start_time', 'end_time', 'hr_mean', 'hr_std',\n",
      "       'hr_50%', 'Activity'],\n",
      "      dtype='object')\n"
     ]
    },
    {
     "data": {
      "text/plain": [
       "8"
      ]
     },
     "execution_count": 5,
     "metadata": {},
     "output_type": "execute_result"
    }
   ],
   "source": [
    "print(df_keys)\n",
    "len(df_keys)"
   ]
  },
  {
   "cell_type": "code",
   "execution_count": 6,
   "metadata": {},
   "outputs": [
    {
     "name": "stdout",
     "output_type": "stream",
     "text": [
      "      hr_mean  hr_std  hr_50%\n",
      "0        -1.0     0.0    -1.0\n",
      "1        -1.0     0.0    -1.0\n",
      "2        -1.0     0.0    -1.0\n",
      "3        -1.0     0.0    -1.0\n",
      "4        -1.0     0.0    -1.0\n",
      "...       ...     ...     ...\n",
      "5100     -1.0     0.0    -1.0\n",
      "5101     -1.0     0.0    -1.0\n",
      "5102     -1.0     0.0    -1.0\n",
      "5103     -1.0     0.0    -1.0\n",
      "5104     -1.0     0.0    -1.0\n",
      "\n",
      "[5105 rows x 3 columns]\n",
      "0       (0,0)\n",
      "1       (0,0)\n",
      "2       (0,0)\n",
      "3       (0,0)\n",
      "4       (0,0)\n",
      "        ...  \n",
      "5100    (2,3)\n",
      "5101    (2,3)\n",
      "5102    (2,3)\n",
      "5103    (2,3)\n",
      "5104    (2,3)\n",
      "Name: Activity, Length: 5105, dtype: object\n"
     ]
    }
   ],
   "source": [
    "# Data Preprocessing\n",
    "df = df_feat.copy()\n",
    "df = df.dropna()\n",
    "\n",
    "Xs = df[df_keys[4:7]]\n",
    "y = df['Activity']\n",
    "\n",
    "print(Xs)\n",
    "print(y)"
   ]
  },
  {
   "cell_type": "code",
   "execution_count": 7,
   "metadata": {},
   "outputs": [],
   "source": [
    "# This is the data split\n",
    "\n",
    "X_train, X_test, y_train, y_test = train_test_split(Xs, y, test_size=0.2, random_state=1)\n"
   ]
  },
  {
   "cell_type": "code",
   "execution_count": 8,
   "metadata": {},
   "outputs": [],
   "source": [
    "from sklearn.preprocessing import StandardScaler\n",
    "\n",
    "sc = StandardScaler()\n",
    "X_train = sc.fit_transform(X_train)\n",
    "X_test = sc.transform(X_test)"
   ]
  },
  {
   "cell_type": "code",
   "execution_count": 9,
   "metadata": {},
   "outputs": [],
   "source": [
    "from sklearn.ensemble import RandomForestClassifier\n",
    "\n",
    "m = RandomForestClassifier(n_estimators=20, random_state=0)\n",
    "m.fit(X_train, y_train)\n",
    "y_pred = m.predict(X_test)"
   ]
  },
  {
   "cell_type": "code",
   "execution_count": 10,
   "metadata": {},
   "outputs": [
    {
     "name": "stdout",
     "output_type": "stream",
     "text": [
      "[[ 3  3  0  2  0  0 21  0  0  0  0  0]\n",
      " [ 0 59  3  5  0  4 48  4  0  1  5  0]\n",
      " [ 0 19 21  9  3  7 52  4  0  7  5  3]\n",
      " [ 0 19  2 10  4  1 43  4  0  4  4  2]\n",
      " [ 0  0  1  1  4  2  6  0  0  0  2  0]\n",
      " [ 0  2  5  2  2 23 30  1  0  2 10  4]\n",
      " [ 0  2  8  7  2  8 94  1  0  4  7  5]\n",
      " [ 0  2  4  1  2  5 45 17  0  1  4  1]\n",
      " [ 0  1  1  1  0  1  6  1  2  1  1  0]\n",
      " [ 0  1  8  6  1  4 32  1  0 15  5  2]\n",
      " [ 1  8 10  5  0 10 71  5  1  5 32  4]\n",
      " [ 0  3  5  2  1  7 47  1  0  2  4  9]]\n",
      "0.28305582761998044\n"
     ]
    }
   ],
   "source": [
    "from sklearn.metrics import confusion_matrix, accuracy_score\n",
    "\n",
    "print(confusion_matrix(y_test, y_pred))\n",
    "print(accuracy_score(y_test, y_pred))"
   ]
  },
  {
   "cell_type": "code",
   "execution_count": 11,
   "metadata": {},
   "outputs": [],
   "source": [
    "df_video = df.loc[(df.Activity == \"(0,0)\") | (df.Activity == \"(0,1)\") | (df.Activity == \"(0,2)\") | (df.Activity == \"(0,3)\")]\n",
    "df_noeval = df.loc[(df.Activity == \"(1,0)\") | (df.Activity == \"(1,1)\") | (df.Activity == \"(1,2)\") | (df.Activity == \"(1,3)\")]\n",
    "df_eval = df.loc[(df.Activity == \"(2,0)\") | (df.Activity == \"(2,1)\") | (df.Activity == \"(2,2)\") | (df.Activity == \"(2,3)\")]"
   ]
  },
  {
   "cell_type": "code",
   "execution_count": 14,
   "metadata": {},
   "outputs": [],
   "source": [
    "def RFC(x):\n",
    "    z = x.copy()\n",
    "    df = z.dropna()\n",
    "\n",
    "    Xs = df[df_keys[4:7]]\n",
    "    y = df['Activity']\n",
    "    \n",
    "    X_train, X_test, y_train, y_test = train_test_split(Xs, y, test_size=0.2, random_state=10)\n",
    "    \n",
    "    m = RandomForestClassifier(n_estimators=20, random_state=0)\n",
    "    m.fit(X_train, y_train)\n",
    "\n",
    "    y_pred = m.predict(X_test)\n",
    "\n",
    "    print(confusion_matrix(y_test, y_pred))\n",
    "    print(accuracy_score(y_test, y_pred))"
   ]
  },
  {
   "cell_type": "code",
   "execution_count": 15,
   "metadata": {},
   "outputs": [
    {
     "name": "stdout",
     "output_type": "stream",
     "text": [
      "[[ 2  6  0 16]\n",
      " [ 0 51  8 44]\n",
      " [ 0 28 39 42]\n",
      " [ 0 25 14 63]]\n",
      "0.45857988165680474\n"
     ]
    }
   ],
   "source": [
    "RFC(df_video)"
   ]
  },
  {
   "cell_type": "code",
   "execution_count": 16,
   "metadata": {},
   "outputs": [
    {
     "name": "stdout",
     "output_type": "stream",
     "text": [
      "[[  3   2   8   7]\n",
      " [  4  27  62   7]\n",
      " [  2  16 122   6]\n",
      " [  2   9  68  20]]\n",
      "0.4712328767123288\n"
     ]
    }
   ],
   "source": [
    "RFC(df_noeval)"
   ]
  },
  {
   "cell_type": "code",
   "execution_count": 17,
   "metadata": {},
   "outputs": [
    {
     "name": "stdout",
     "output_type": "stream",
     "text": [
      "[[  3   5   9   2]\n",
      " [  2  12  50   4]\n",
      " [  0  15 115   6]\n",
      " [  1   6  72  17]]\n",
      "0.4608150470219436\n"
     ]
    }
   ],
   "source": [
    "RFC(df_eval)"
   ]
  },
  {
   "cell_type": "code",
   "execution_count": null,
   "metadata": {},
   "outputs": [],
   "source": []
  }
 ],
 "metadata": {
  "kernelspec": {
   "display_name": "Python 3",
   "language": "python",
   "name": "python3"
  },
  "language_info": {
   "codemirror_mode": {
    "name": "ipython",
    "version": 3
   },
   "file_extension": ".py",
   "mimetype": "text/x-python",
   "name": "python",
   "nbconvert_exporter": "python",
   "pygments_lexer": "ipython3",
   "version": "3.7.4"
  }
 },
 "nbformat": 4,
 "nbformat_minor": 2
}
