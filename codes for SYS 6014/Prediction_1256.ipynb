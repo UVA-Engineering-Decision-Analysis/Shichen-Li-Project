{
 "cells": [
  {
   "cell_type": "code",
   "execution_count": 125,
   "metadata": {},
   "outputs": [],
   "source": [
    "import numpy as np\n",
    "import pandas as pd"
   ]
  },
  {
   "cell_type": "code",
   "execution_count": 126,
   "metadata": {},
   "outputs": [],
   "source": [
    "filename = 'Data_analysis_1256'\n",
    "\n",
    "# Read data from csv file \n",
    "df_feat = pd.read_csv(filename)\n",
    "df_feat = df_feat.drop(columns = ['Activity'])\n",
    "df_keys = df_feat.keys()"
   ]
  },
  {
   "cell_type": "code",
   "execution_count": 127,
   "metadata": {},
   "outputs": [
    {
     "name": "stdout",
     "output_type": "stream",
     "text": [
      "Index(['Unnamed: 0', 'Participant', 'start_time', 'end_time', 'acc_count',\n",
      "       'acc_mean', 'acc_std', 'acc_min', 'acc_25%', 'acc_50%', 'acc_75%',\n",
      "       'acc_max', 'acc_eng', 'acc_entropy', 'acc_var', 'acc_skew', 'acc_kurt',\n",
      "       'acc_mad', 'gyro_mean', 'gyro_std', 'gyro_min', 'gyro_25%', 'gyro_50%',\n",
      "       'gyro_75%', 'gyro_max', 'gyro_eng', 'gyro_entropy', 'gyro_var',\n",
      "       'gyro_skew', 'gyro_kurt', 'gyro_mad', 'gsr_mean', 'gsr_std',\n",
      "       'gsr_mean.1', 'gsr_max', 'gsr_variance', 'gsr_skewness', 'gsr_kurtosis',\n",
      "       'score_change'],\n",
      "      dtype='object')\n"
     ]
    },
    {
     "data": {
      "text/plain": [
       "39"
      ]
     },
     "execution_count": 127,
     "metadata": {},
     "output_type": "execute_result"
    }
   ],
   "source": [
    "print(df_keys)\n",
    "len(df_keys)"
   ]
  },
  {
   "cell_type": "code",
   "execution_count": 128,
   "metadata": {},
   "outputs": [
    {
     "name": "stdout",
     "output_type": "stream",
     "text": [
      "      acc_mean   acc_std   acc_min   acc_25%   acc_50%   acc_75%   acc_max  \\\n",
      "0     1.677633  0.124228  1.471612  1.555450  1.686079  1.807553  1.849584   \n",
      "1     1.561390  0.100116  1.447000  1.473017  1.525655  1.644828  1.787044   \n",
      "2     1.491932  0.033225  1.447000  1.472856  1.480417  1.498187  1.601962   \n",
      "3     1.479398  0.011917  1.447000  1.472856  1.480417  1.486391  1.518047   \n",
      "4     1.491377  0.010630  1.465458  1.482809  1.490994  1.501417  1.522399   \n",
      "...        ...       ...       ...       ...       ...       ...       ...   \n",
      "9639  1.601729  0.088580  1.501142  1.531028  1.566651  1.659167  1.799660   \n",
      "9640  1.584692  0.055840  1.501142  1.532493  1.579270  1.626916  1.711292   \n",
      "9641  1.634041  0.070983  1.502046  1.565519  1.651781  1.700418  1.747433   \n",
      "9642  1.701175  0.045277  1.584833  1.675359  1.706349  1.731437  1.791962   \n",
      "9643  1.727280  0.024522  1.678459  1.706349  1.721291  1.748514  1.791962   \n",
      "\n",
      "          acc_eng  acc_entropy   acc_var  ...  gyro_skew  gyro_kurt  gyro_mad  \\\n",
      "0     5920.104797     5.667649  0.015433  ...   0.841467   0.626119  0.228354   \n",
      "1     5096.645085     5.475789  0.010023  ...   1.052323   1.119866  0.298278   \n",
      "2     4609.816044     4.995323  0.001104  ...   1.951310   5.722259  0.407099   \n",
      "3     4550.433010     4.547586  0.000142  ...   1.873693   5.559798  0.406078   \n",
      "4     4662.169187     4.228265  0.000113  ...   3.728656  28.041975  0.440370   \n",
      "...           ...          ...       ...  ...        ...        ...       ...   \n",
      "9639  5370.640005     5.122522  0.007846  ...   1.786256   4.765928  1.282278   \n",
      "9640  5725.213374     5.177624  0.003118  ...   1.558248   4.272371  1.270297   \n",
      "9641  6096.616139     4.853093  0.005039  ...   1.724908   5.127654  1.170044   \n",
      "9642  6591.398275     4.650657  0.002050  ...   1.807932   6.491142  1.110759   \n",
      "9643  4529.858341     4.090884  0.000601  ...   2.050351   6.801323  1.158021   \n",
      "\n",
      "      gsr_mean   gsr_std  gsr_mean.1   gsr_max  gsr_variance  gsr_skewness  \\\n",
      "0     1.193355  0.000646    1.191475  1.196359  4.172758e-07      0.226619   \n",
      "1     1.192316  0.001684    1.187923  1.196359  2.837070e-06     -0.834594   \n",
      "2     1.189617  0.003217    1.182595  1.195471  1.035138e-05     -0.468037   \n",
      "3     1.185420  0.004320    1.177267  1.193251  1.866579e-05     -0.146692   \n",
      "4     1.180097  0.004953    1.171051  1.189255  2.453065e-05     -0.111985   \n",
      "...        ...       ...         ...       ...           ...           ...   \n",
      "9639  1.873922  0.004225    1.857143  1.895238  1.785484e-05      1.241958   \n",
      "9640  1.872439  0.004663    1.838095  1.895238  2.174279e-05      0.428993   \n",
      "9641  1.869794  0.004626    1.838095  1.892308  2.139595e-05      0.490440   \n",
      "9642  1.866879  0.004492    1.838095  1.889377  2.017814e-05      0.256191   \n",
      "9643  1.865581  0.004135    1.842491  1.883516  1.710215e-05      0.676028   \n",
      "\n",
      "      gsr_kurtosis  \n",
      "0         1.612733  \n",
      "1        -0.162115  \n",
      "2        -1.050837  \n",
      "3        -1.189991  \n",
      "4        -1.201910  \n",
      "...            ...  \n",
      "9639      5.575090  \n",
      "9640      5.263945  \n",
      "9641      4.582487  \n",
      "9642      3.974350  \n",
      "9643      4.517975  \n",
      "\n",
      "[9644 rows x 33 columns]\n",
      "0       0.256\n",
      "1       0.256\n",
      "2       0.256\n",
      "3       0.256\n",
      "4       0.256\n",
      "        ...  \n",
      "9639   -0.923\n",
      "9640   -0.923\n",
      "9641   -0.923\n",
      "9642   -0.923\n",
      "9643   -0.923\n",
      "Name: score_change, Length: 9644, dtype: float64\n"
     ]
    }
   ],
   "source": [
    "df = df_feat.copy()\n",
    "df = df.dropna()\n",
    "\n",
    "Xs = df[df_keys[5:38]]\n",
    "y = df['score_change']\n",
    "\n",
    "print(Xs)\n",
    "print(y)"
   ]
  },
  {
   "cell_type": "code",
   "execution_count": 156,
   "metadata": {},
   "outputs": [
    {
     "name": "stdout",
     "output_type": "stream",
     "text": [
      "When there is 1 components:\n",
      "[0.31055562]\n",
      "0.31055561821019195\n",
      "When there is 2 components:\n",
      "[0.31055562 0.26767344]\n",
      "0.5782290586847625\n",
      "When there is 3 components:\n",
      "[0.31055562 0.26767344 0.07406292]\n",
      "0.652291979281312\n",
      "When there is 4 components:\n",
      "[0.31055562 0.26767344 0.07406292 0.06210695]\n",
      "0.7143989334511525\n",
      "When there is 5 components:\n",
      "[0.31055562 0.26767344 0.07406292 0.06210695 0.06052052]\n",
      "0.7749194509077079\n",
      "When there is 6 components:\n",
      "[0.31055562 0.26767344 0.07406292 0.06210695 0.06052052 0.03663542]\n",
      "0.8115548695805347\n",
      "When there is 7 components:\n",
      "[0.31055562 0.26767344 0.07406292 0.06210695 0.06052052 0.03663542\n",
      " 0.03635651]\n",
      "0.8479113746871348\n",
      "When there is 8 components:\n",
      "[0.31055562 0.26767344 0.07406292 0.06210695 0.06052052 0.03663542\n",
      " 0.03635651 0.02911981]\n",
      "0.8770311847832282\n",
      "When there is 9 components:\n",
      "[0.31055562 0.26767344 0.07406292 0.06210695 0.06052052 0.03663542\n",
      " 0.03635651 0.02911981 0.02579441]\n",
      "0.9028255908239927\n",
      "When there is 10 components:\n",
      "[0.31055562 0.26767344 0.07406292 0.06210695 0.06052052 0.03663542\n",
      " 0.03635651 0.02911981 0.02579441 0.0224887 ]\n",
      "0.9253142902683962\n",
      "When there is 11 components:\n",
      "[0.31055562 0.26767344 0.07406292 0.06210695 0.06052052 0.03663542\n",
      " 0.03635651 0.02911981 0.02579441 0.0224887  0.02107444]\n",
      "0.9463887271287468\n",
      "When there is 12 components:\n",
      "[0.31055562 0.26767344 0.07406292 0.06210695 0.06052052 0.03663542\n",
      " 0.03635651 0.02911981 0.02579441 0.0224887  0.02107444 0.01353149]\n",
      "0.9599202216182976\n",
      "When there is 13 components:\n",
      "[0.31055562 0.26767344 0.07406292 0.06210695 0.06052052 0.03663542\n",
      " 0.03635651 0.02911981 0.02579441 0.0224887  0.02107444 0.01353149\n",
      " 0.01262063]\n",
      "0.9725408509167839\n",
      "When there is 14 components:\n",
      "[0.31055562 0.26767344 0.07406292 0.06210695 0.06052052 0.03663542\n",
      " 0.03635651 0.02911981 0.02579441 0.0224887  0.02107444 0.01353149\n",
      " 0.01262063 0.00682697]\n",
      "0.9793678192264095\n",
      "When there is 15 components:\n",
      "[0.31055562 0.26767344 0.07406292 0.06210695 0.06052052 0.03663542\n",
      " 0.03635651 0.02911981 0.02579441 0.0224887  0.02107444 0.01353149\n",
      " 0.01262063 0.00682697 0.00643794]\n",
      "0.9858057549353011\n",
      "When there is 16 components:\n",
      "[0.31055562 0.26767344 0.07406292 0.06210695 0.06052052 0.03663542\n",
      " 0.03635651 0.02911981 0.02579441 0.0224887  0.02107444 0.01353149\n",
      " 0.01262063 0.00682697 0.00643794 0.0046768 ]\n",
      "0.9904825561085426\n",
      "When there is 17 components:\n",
      "[0.31055562 0.26767344 0.07406292 0.06210695 0.06052052 0.03663542\n",
      " 0.03635651 0.02911981 0.02579441 0.0224887  0.02107444 0.01353149\n",
      " 0.01262063 0.00682697 0.00643794 0.0046768  0.00331992]\n",
      "0.9938024734926831\n"
     ]
    }
   ],
   "source": [
    "from sklearn.model_selection import train_test_split\n",
    "from sklearn.preprocessing import StandardScaler\n",
    "from sklearn.decomposition import PCA\n",
    "\n",
    "components = []\n",
    "accuracy = []\n",
    "for i in range(1,18):\n",
    "    X_train, X_test, y_train, y_test = train_test_split(Xs, y, test_size=0.2, random_state=0)\n",
    "    sc = StandardScaler()\n",
    "    X_train = sc.fit_transform(X_train)\n",
    "    X_test = sc.transform(X_test)\n",
    "    pca = PCA(n_components = i)\n",
    "    X_train = pca.fit_transform(X_train)\n",
    "    X_test = pca.transform(X_test)\n",
    "    explained_variance = pca.explained_variance_ratio_\n",
    "    print('When there is ' + str(i) + ' components:')\n",
    "    print(explained_variance)\n",
    "    print(sum(explained_variance))\n",
    "    components.append(i)\n",
    "    accuracy.append(sum(explained_variance))"
   ]
  },
  {
   "cell_type": "code",
   "execution_count": 138,
   "metadata": {},
   "outputs": [],
   "source": [
    "# We finally found that only use 16 features (a half of the all features) can retain 99% accuracy.\n",
    "from sklearn.model_selection import train_test_split    \n",
    "X_train, X_test, y_train, y_test = train_test_split(Xs, y, test_size=0.2, random_state=0)\n",
    "sc = StandardScaler()\n",
    "X_train = sc.fit_transform(X_train)\n",
    "X_test = sc.transform(X_test)\n",
    "pca = PCA(n_components = 16)\n",
    "X_train_1 = pca.fit_transform(X_train)\n",
    "X_test_1 = pca.transform(X_test)"
   ]
  },
  {
   "cell_type": "code",
   "execution_count": 139,
   "metadata": {},
   "outputs": [
    {
     "name": "stdout",
     "output_type": "stream",
     "text": [
      "0.09747881627765909\n",
      "Mean Absolute Error: 0.5347509319905885\n",
      "Mean Squared Error: 0.45194059821290966\n",
      "Root Mean Squared Error: 0.672265273692543\n"
     ]
    }
   ],
   "source": [
    "from sklearn.linear_model import LinearRegression\n",
    "from sklearn import metrics\n",
    "\n",
    "reg = LinearRegression().fit(X_train_1, y_train)\n",
    "\n",
    "y_pred = reg.predict(X_test_1)\n",
    "\n",
    "print(metrics.r2_score(y_test,y_pred))\n",
    "print('Mean Absolute Error:', metrics.mean_absolute_error(y_test, y_pred))  \n",
    "print('Mean Squared Error:', metrics.mean_squared_error(y_test, y_pred))  \n",
    "print('Root Mean Squared Error:', np.sqrt(metrics.mean_squared_error(y_test, y_pred)))"
   ]
  },
  {
   "cell_type": "code",
   "execution_count": 140,
   "metadata": {},
   "outputs": [
    {
     "name": "stdout",
     "output_type": "stream",
     "text": [
      "-0.2064195722618276\n",
      "[ 0.01184159 -0.01894584  0.01165425  0.02526903  0.03730497 -0.08163807\n",
      " -0.10867644 -0.04014408 -0.01223931 -0.12162335  0.06326785  0.05524069\n",
      " -0.05761221 -0.02989952  0.05544881  0.00839394]\n"
     ]
    }
   ],
   "source": [
    "#To retrieve the intercept:\n",
    "print(reg.intercept_)\n",
    "#For retrieving the slope:\n",
    "print(reg.coef_)"
   ]
  },
  {
   "cell_type": "code",
   "execution_count": 141,
   "metadata": {},
   "outputs": [
    {
     "data": {
      "text/html": [
       "<div>\n",
       "<style scoped>\n",
       "    .dataframe tbody tr th:only-of-type {\n",
       "        vertical-align: middle;\n",
       "    }\n",
       "\n",
       "    .dataframe tbody tr th {\n",
       "        vertical-align: top;\n",
       "    }\n",
       "\n",
       "    .dataframe thead th {\n",
       "        text-align: right;\n",
       "    }\n",
       "</style>\n",
       "<table border=\"1\" class=\"dataframe\">\n",
       "  <thead>\n",
       "    <tr style=\"text-align: right;\">\n",
       "      <th></th>\n",
       "      <th>Actual</th>\n",
       "      <th>Predicted</th>\n",
       "    </tr>\n",
       "  </thead>\n",
       "  <tbody>\n",
       "    <tr>\n",
       "      <td>0</td>\n",
       "      <td>0.000</td>\n",
       "      <td>-0.316333</td>\n",
       "    </tr>\n",
       "    <tr>\n",
       "      <td>1</td>\n",
       "      <td>1.179</td>\n",
       "      <td>-0.231954</td>\n",
       "    </tr>\n",
       "    <tr>\n",
       "      <td>2</td>\n",
       "      <td>-0.539</td>\n",
       "      <td>-0.206275</td>\n",
       "    </tr>\n",
       "    <tr>\n",
       "      <td>3</td>\n",
       "      <td>-0.718</td>\n",
       "      <td>-0.270857</td>\n",
       "    </tr>\n",
       "    <tr>\n",
       "      <td>4</td>\n",
       "      <td>-0.538</td>\n",
       "      <td>-0.629498</td>\n",
       "    </tr>\n",
       "    <tr>\n",
       "      <td>...</td>\n",
       "      <td>...</td>\n",
       "      <td>...</td>\n",
       "    </tr>\n",
       "    <tr>\n",
       "      <td>1924</td>\n",
       "      <td>-0.780</td>\n",
       "      <td>-0.006807</td>\n",
       "    </tr>\n",
       "    <tr>\n",
       "      <td>1925</td>\n",
       "      <td>-1.154</td>\n",
       "      <td>0.086525</td>\n",
       "    </tr>\n",
       "    <tr>\n",
       "      <td>1926</td>\n",
       "      <td>-0.198</td>\n",
       "      <td>-0.162263</td>\n",
       "    </tr>\n",
       "    <tr>\n",
       "      <td>1927</td>\n",
       "      <td>-1.077</td>\n",
       "      <td>-0.510163</td>\n",
       "    </tr>\n",
       "    <tr>\n",
       "      <td>1928</td>\n",
       "      <td>-0.923</td>\n",
       "      <td>-0.368997</td>\n",
       "    </tr>\n",
       "  </tbody>\n",
       "</table>\n",
       "<p>1929 rows × 2 columns</p>\n",
       "</div>"
      ],
      "text/plain": [
       "      Actual  Predicted\n",
       "0      0.000  -0.316333\n",
       "1      1.179  -0.231954\n",
       "2     -0.539  -0.206275\n",
       "3     -0.718  -0.270857\n",
       "4     -0.538  -0.629498\n",
       "...      ...        ...\n",
       "1924  -0.780  -0.006807\n",
       "1925  -1.154   0.086525\n",
       "1926  -0.198  -0.162263\n",
       "1927  -1.077  -0.510163\n",
       "1928  -0.923  -0.368997\n",
       "\n",
       "[1929 rows x 2 columns]"
      ]
     },
     "execution_count": 141,
     "metadata": {},
     "output_type": "execute_result"
    }
   ],
   "source": [
    "import numpy as np\n",
    "y_test = np.array(list(y_test))\n",
    "y_pred = np.array(y_pred)\n",
    "\n",
    "result = pd.DataFrame({'Actual': y_test.flatten(), 'Predicted': y_pred.flatten()})\n",
    "result"
   ]
  },
  {
   "cell_type": "code",
   "execution_count": 142,
   "metadata": {},
   "outputs": [
    {
     "name": "stdout",
     "output_type": "stream",
     "text": [
      "{'alpha': 0.0001}\n",
      "-0.4628525295920837\n"
     ]
    }
   ],
   "source": [
    "# Test the best alpha\n",
    "from sklearn.model_selection import GridSearchCV\n",
    "from sklearn.linear_model import Lasso\n",
    "\n",
    "lasso = Lasso()\n",
    "\n",
    "parameters = {'alpha' : [1e-10,1e-8,1e-4, 1e-2,0.1,0.5, 1, 5, 10]}\n",
    "\n",
    "lasso_regressor = GridSearchCV(lasso, parameters, scoring = 'neg_mean_squared_error', cv = 5)\n",
    "\n",
    "lasso_regressor.fit(X_train_1, y_train)\n",
    "\n",
    "print(lasso_regressor.best_params_)\n",
    "print(lasso_regressor.best_score_)"
   ]
  },
  {
   "cell_type": "code",
   "execution_count": 144,
   "metadata": {},
   "outputs": [
    {
     "name": "stdout",
     "output_type": "stream",
     "text": [
      "0.09744855980612721\n",
      "Mean Absolute Error: 0.5347531228493224\n",
      "Mean Squared Error: 0.45195574924547327\n",
      "Root Mean Squared Error: 0.6722765422394814\n"
     ]
    }
   ],
   "source": [
    "\n",
    "\n",
    "lasso = Lasso(alpha = 1e-4)\n",
    "lasso.fit(X_train_1,y_train)\n",
    "\n",
    "y_pred = lasso.predict(X_test_1)\n",
    "\n",
    "print(metrics.r2_score(y_test,y_pred))\n",
    "print('Mean Absolute Error:', metrics.mean_absolute_error(y_test, y_pred))  \n",
    "print('Mean Squared Error:', metrics.mean_squared_error(y_test, y_pred))  \n",
    "print('Root Mean Squared Error:', np.sqrt(metrics.mean_squared_error(y_test, y_pred)))"
   ]
  },
  {
   "cell_type": "code",
   "execution_count": 150,
   "metadata": {},
   "outputs": [
    {
     "name": "stdout",
     "output_type": "stream",
     "text": [
      "0.097463218133237\n",
      "Mean Absolute Error: 0.5347518234399785\n",
      "Mean Squared Error: 0.4519484090375731\n",
      "Root Mean Squared Error: 0.6722710829996877\n"
     ]
    }
   ],
   "source": [
    "from sklearn.linear_model import ElasticNet\n",
    "\n",
    "model_enet = ElasticNet(alpha = 0.0001) # After test, this is the best alpha\n",
    "\n",
    "model_enet.fit(X_train_1,y_train)\n",
    "\n",
    "y_pred = model_enet.predict(X_test_1)\n",
    "\n",
    "print(metrics.r2_score(y_test,y_pred))\n",
    "print('Mean Absolute Error:', metrics.mean_absolute_error(y_test, y_pred))  \n",
    "print('Mean Squared Error:', metrics.mean_squared_error(y_test, y_pred))  \n",
    "print('Root Mean Squared Error:', np.sqrt(metrics.mean_squared_error(y_test, y_pred)))"
   ]
  },
  {
   "cell_type": "code",
   "execution_count": 157,
   "metadata": {},
   "outputs": [
    {
     "name": "stdout",
     "output_type": "stream",
     "text": [
      "[1, 2, 3, 4, 5, 6, 7, 8, 9, 10, 11, 12, 13, 14, 15, 16, 17]\n",
      "[0.31055561821019195, 0.5782290586847625, 0.652291979281312, 0.7143989334511525, 0.7749194509077079, 0.8115548695805347, 0.8479113746871348, 0.8770311847832282, 0.9028255908239927, 0.9253142902683962, 0.9463887271287468, 0.9599202216182976, 0.9725408509167839, 0.9793678192264095, 0.9858057549353011, 0.9904825561085426, 0.9938024734926831]\n"
     ]
    }
   ],
   "source": [
    "print(components)\n",
    "print(accuracy)"
   ]
  },
  {
   "cell_type": "code",
   "execution_count": 159,
   "metadata": {},
   "outputs": [
    {
     "data": {
      "text/plain": [
       "Text(0.5, 0, 'number of components')"
      ]
     },
     "execution_count": 159,
     "metadata": {},
     "output_type": "execute_result"
    },
    {
     "data": {
      "image/png": "[encoded data removed]",
      "text/plain": [
       "<Figure size 432x288 with 1 Axes>"
      ]
     },
     "metadata": {
      "needs_background": "light"
     },
     "output_type": "display_data"
    }
   ],
   "source": [
    "import matplotlib.pyplot as plt\n",
    "plt.plot(components,accuracy)\n",
    "plt.ylabel('accuracy')\n",
    "plt.xlabel('number of components')"
   ]
  },
  {
   "cell_type": "code",
   "execution_count": null,
   "metadata": {},
   "outputs": [],
   "source": []
  }
 ],
 "metadata": {
  "kernelspec": {
   "display_name": "Python 3",
   "language": "python",
   "name": "python3"
  },
  "language_info": {
   "codemirror_mode": {
    "name": "ipython",
    "version": 3
   },
   "file_extension": ".py",
   "mimetype": "text/x-python",
   "name": "python",
   "nbconvert_exporter": "python",
   "pygments_lexer": "ipython3",
   "version": "3.7.4"
  }
 },
 "nbformat": 4,
 "nbformat_minor": 2
}
